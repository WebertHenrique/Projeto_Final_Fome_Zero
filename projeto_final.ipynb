{
 "cells": [
  {
   "cell_type": "code",
   "execution_count": 1,
   "id": "299b65bf-01fc-4900-8410-7d5a9c59df94",
   "metadata": {},
   "outputs": [],
   "source": [
    "#Primeiro vamos importar algumas bibliotecas que posso usar\n",
    "#Libraries\n",
    "from haversine import haversine\n",
    "import plotly.express as px\n",
    "import plotly.graph_objects as go\n",
    "\n",
    "#Bibliotecas necessárias\n",
    "import pandas as pd\n",
    "import streamlit as st\n",
    "import numpy as np\n",
    "from PIL import Image\n",
    "import folium\n",
    "from streamlit_folium import folium_static\n",
    "import inflection"
   ]
  },
  {
   "cell_type": "code",
   "execution_count": 2,
   "id": "4eccbb5c-4a5b-43c6-bcdc-e0856283113a",
   "metadata": {},
   "outputs": [],
   "source": [
    "#Vamos ler o arquivo\n",
    "df=pd.read_csv( \"zomato.csv\" )"
   ]
  },
  {
   "cell_type": "code",
   "execution_count": 3,
   "id": "964221be-0184-4e81-b7d5-5974215a9343",
   "metadata": {},
   "outputs": [],
   "source": [
    "df1 = df.copy()"
   ]
  },
  {
   "cell_type": "code",
   "execution_count": 4,
   "id": "16e191e4-f8eb-4d3e-a3e0-0c4835b36544",
   "metadata": {},
   "outputs": [
    {
     "data": {
      "text/html": [
       "<div>\n",
       "<style scoped>\n",
       "    .dataframe tbody tr th:only-of-type {\n",
       "        vertical-align: middle;\n",
       "    }\n",
       "\n",
       "    .dataframe tbody tr th {\n",
       "        vertical-align: top;\n",
       "    }\n",
       "\n",
       "    .dataframe thead th {\n",
       "        text-align: right;\n",
       "    }\n",
       "</style>\n",
       "<table border=\"1\" class=\"dataframe\">\n",
       "  <thead>\n",
       "    <tr style=\"text-align: right;\">\n",
       "      <th></th>\n",
       "      <th>restaurant_id</th>\n",
       "      <th>restaurant_name</th>\n",
       "      <th>country_code</th>\n",
       "      <th>city</th>\n",
       "      <th>address</th>\n",
       "      <th>locality</th>\n",
       "      <th>locality_verbose</th>\n",
       "      <th>longitude</th>\n",
       "      <th>latitude</th>\n",
       "      <th>cuisines</th>\n",
       "      <th>...</th>\n",
       "      <th>currency</th>\n",
       "      <th>has_table_booking</th>\n",
       "      <th>has_online_delivery</th>\n",
       "      <th>is_delivering_now</th>\n",
       "      <th>switch_to_order_menu</th>\n",
       "      <th>price_range</th>\n",
       "      <th>aggregate_rating</th>\n",
       "      <th>rating_color</th>\n",
       "      <th>rating_text</th>\n",
       "      <th>votes</th>\n",
       "    </tr>\n",
       "  </thead>\n",
       "  <tbody>\n",
       "    <tr>\n",
       "      <th>0</th>\n",
       "      <td>6310675</td>\n",
       "      <td>Mama Lou's Italian Kitchen</td>\n",
       "      <td>162</td>\n",
       "      <td>Las Piñas City</td>\n",
       "      <td>Block 1, Lot 36, Tropical Avenue Corner Tropic...</td>\n",
       "      <td>BF International</td>\n",
       "      <td>BF International, Las Piñas City</td>\n",
       "      <td>121.009787</td>\n",
       "      <td>14.447615</td>\n",
       "      <td>Italian</td>\n",
       "      <td>...</td>\n",
       "      <td>Botswana Pula(P)</td>\n",
       "      <td>1</td>\n",
       "      <td>0</td>\n",
       "      <td>0</td>\n",
       "      <td>0</td>\n",
       "      <td>3</td>\n",
       "      <td>4.6</td>\n",
       "      <td>3F7E00</td>\n",
       "      <td>Excellent</td>\n",
       "      <td>619</td>\n",
       "    </tr>\n",
       "    <tr>\n",
       "      <th>1</th>\n",
       "      <td>6310675</td>\n",
       "      <td>Mama Lou's Italian Kitchen</td>\n",
       "      <td>162</td>\n",
       "      <td>Las Piñas City</td>\n",
       "      <td>Block 1, Lot 36, Tropical Avenue Corner Tropic...</td>\n",
       "      <td>BF International</td>\n",
       "      <td>BF International, Las Piñas City</td>\n",
       "      <td>121.009787</td>\n",
       "      <td>14.447615</td>\n",
       "      <td>Italian</td>\n",
       "      <td>...</td>\n",
       "      <td>Botswana Pula(P)</td>\n",
       "      <td>1</td>\n",
       "      <td>0</td>\n",
       "      <td>0</td>\n",
       "      <td>0</td>\n",
       "      <td>3</td>\n",
       "      <td>4.6</td>\n",
       "      <td>3F7E00</td>\n",
       "      <td>Excellent</td>\n",
       "      <td>619</td>\n",
       "    </tr>\n",
       "    <tr>\n",
       "      <th>2</th>\n",
       "      <td>6314542</td>\n",
       "      <td>Blackbird</td>\n",
       "      <td>162</td>\n",
       "      <td>Makati City</td>\n",
       "      <td>Nielson Tower, Ayala Triangle Gardens, Salcedo...</td>\n",
       "      <td>Ayala Triangle Gardens, Salcedo Village, Makat...</td>\n",
       "      <td>Ayala Triangle Gardens, Salcedo Village, Makat...</td>\n",
       "      <td>121.024562</td>\n",
       "      <td>14.556042</td>\n",
       "      <td>European, Asian</td>\n",
       "      <td>...</td>\n",
       "      <td>Botswana Pula(P)</td>\n",
       "      <td>0</td>\n",
       "      <td>0</td>\n",
       "      <td>0</td>\n",
       "      <td>0</td>\n",
       "      <td>4</td>\n",
       "      <td>4.7</td>\n",
       "      <td>3F7E00</td>\n",
       "      <td>Excellent</td>\n",
       "      <td>469</td>\n",
       "    </tr>\n",
       "    <tr>\n",
       "      <th>3</th>\n",
       "      <td>6301293</td>\n",
       "      <td>Banapple</td>\n",
       "      <td>162</td>\n",
       "      <td>Makati City</td>\n",
       "      <td>Ayala Triangle Gardens, Salcedo Village, Makat...</td>\n",
       "      <td>Ayala Triangle Gardens, Salcedo Village, Makat...</td>\n",
       "      <td>Ayala Triangle Gardens, Salcedo Village, Makat...</td>\n",
       "      <td>121.023171</td>\n",
       "      <td>14.556196</td>\n",
       "      <td>Filipino, American, Italian, Bakery</td>\n",
       "      <td>...</td>\n",
       "      <td>Botswana Pula(P)</td>\n",
       "      <td>0</td>\n",
       "      <td>0</td>\n",
       "      <td>0</td>\n",
       "      <td>0</td>\n",
       "      <td>3</td>\n",
       "      <td>4.4</td>\n",
       "      <td>5BA829</td>\n",
       "      <td>Very Good</td>\n",
       "      <td>867</td>\n",
       "    </tr>\n",
       "    <tr>\n",
       "      <th>4</th>\n",
       "      <td>6315689</td>\n",
       "      <td>Bad Bird</td>\n",
       "      <td>162</td>\n",
       "      <td>Makati City</td>\n",
       "      <td>Hole In The Wall, Floor 4, Century City Mall, ...</td>\n",
       "      <td>Century City Mall, Poblacion, Makati City</td>\n",
       "      <td>Century City Mall, Poblacion, Makati City, Mak...</td>\n",
       "      <td>121.027708</td>\n",
       "      <td>14.565899</td>\n",
       "      <td>American</td>\n",
       "      <td>...</td>\n",
       "      <td>Botswana Pula(P)</td>\n",
       "      <td>0</td>\n",
       "      <td>0</td>\n",
       "      <td>0</td>\n",
       "      <td>0</td>\n",
       "      <td>3</td>\n",
       "      <td>4.4</td>\n",
       "      <td>5BA829</td>\n",
       "      <td>Very Good</td>\n",
       "      <td>858</td>\n",
       "    </tr>\n",
       "    <tr>\n",
       "      <th>...</th>\n",
       "      <td>...</td>\n",
       "      <td>...</td>\n",
       "      <td>...</td>\n",
       "      <td>...</td>\n",
       "      <td>...</td>\n",
       "      <td>...</td>\n",
       "      <td>...</td>\n",
       "      <td>...</td>\n",
       "      <td>...</td>\n",
       "      <td>...</td>\n",
       "      <td>...</td>\n",
       "      <td>...</td>\n",
       "      <td>...</td>\n",
       "      <td>...</td>\n",
       "      <td>...</td>\n",
       "      <td>...</td>\n",
       "      <td>...</td>\n",
       "      <td>...</td>\n",
       "      <td>...</td>\n",
       "      <td>...</td>\n",
       "      <td>...</td>\n",
       "    </tr>\n",
       "    <tr>\n",
       "      <th>7522</th>\n",
       "      <td>5912546</td>\n",
       "      <td>Eataly</td>\n",
       "      <td>208</td>\n",
       "      <td>İstanbul</td>\n",
       "      <td>Zorlu Center AVM, Köprü Katı, Levazım Mahalles...</td>\n",
       "      <td>Zorlu Center AVM, Levazım, Beşiktaş</td>\n",
       "      <td>Zorlu Center AVM, Levazım, Beşiktaş, İstanbul</td>\n",
       "      <td>29.017326</td>\n",
       "      <td>41.065322</td>\n",
       "      <td>Italian, Pizza, Fresh Fish</td>\n",
       "      <td>...</td>\n",
       "      <td>Turkish Lira(TL)</td>\n",
       "      <td>0</td>\n",
       "      <td>0</td>\n",
       "      <td>0</td>\n",
       "      <td>0</td>\n",
       "      <td>4</td>\n",
       "      <td>4.3</td>\n",
       "      <td>5BA829</td>\n",
       "      <td>Very Good</td>\n",
       "      <td>1367</td>\n",
       "    </tr>\n",
       "    <tr>\n",
       "      <th>7523</th>\n",
       "      <td>5913006</td>\n",
       "      <td>Tarihi Çınaraltı Aile Çay Bahçesi</td>\n",
       "      <td>208</td>\n",
       "      <td>İstanbul</td>\n",
       "      <td>Çengelköy Mahallesi, Çınaraltı Camii Sokak, No...</td>\n",
       "      <td>Çengelköy Merkez</td>\n",
       "      <td>Çengelköy Merkez, İstanbul</td>\n",
       "      <td>29.052620</td>\n",
       "      <td>41.050280</td>\n",
       "      <td>Fast Food, Izgara, Seafood, Tea, Coffee</td>\n",
       "      <td>...</td>\n",
       "      <td>Turkish Lira(TL)</td>\n",
       "      <td>0</td>\n",
       "      <td>0</td>\n",
       "      <td>0</td>\n",
       "      <td>0</td>\n",
       "      <td>2</td>\n",
       "      <td>4.5</td>\n",
       "      <td>3F7E00</td>\n",
       "      <td>Excellent</td>\n",
       "      <td>1172</td>\n",
       "    </tr>\n",
       "    <tr>\n",
       "      <th>7524</th>\n",
       "      <td>5923535</td>\n",
       "      <td>Boon Cafe &amp; Restaurant</td>\n",
       "      <td>208</td>\n",
       "      <td>İstanbul</td>\n",
       "      <td>Çengelköy Mahallesi, Çengelköy Caddesi, Kara S...</td>\n",
       "      <td>Çengelköy Merkez</td>\n",
       "      <td>Çengelköy Merkez, İstanbul</td>\n",
       "      <td>29.052623</td>\n",
       "      <td>41.050717</td>\n",
       "      <td>Restaurant Cafe</td>\n",
       "      <td>...</td>\n",
       "      <td>Turkish Lira(TL)</td>\n",
       "      <td>0</td>\n",
       "      <td>0</td>\n",
       "      <td>0</td>\n",
       "      <td>0</td>\n",
       "      <td>4</td>\n",
       "      <td>4.2</td>\n",
       "      <td>5BA829</td>\n",
       "      <td>Very Good</td>\n",
       "      <td>1160</td>\n",
       "    </tr>\n",
       "    <tr>\n",
       "      <th>7525</th>\n",
       "      <td>5914190</td>\n",
       "      <td>Kanaat Lokantası</td>\n",
       "      <td>208</td>\n",
       "      <td>İstanbul</td>\n",
       "      <td>Sultantepe Mahallesi, Selmani Pak Caddesi, No ...</td>\n",
       "      <td>Üsküdar Merkez</td>\n",
       "      <td>Üsküdar Merkez, İstanbul</td>\n",
       "      <td>29.016590</td>\n",
       "      <td>41.025741</td>\n",
       "      <td>Home-made, Izgara</td>\n",
       "      <td>...</td>\n",
       "      <td>Turkish Lira(TL)</td>\n",
       "      <td>0</td>\n",
       "      <td>0</td>\n",
       "      <td>0</td>\n",
       "      <td>0</td>\n",
       "      <td>3</td>\n",
       "      <td>4.0</td>\n",
       "      <td>5BA829</td>\n",
       "      <td>Very Good</td>\n",
       "      <td>770</td>\n",
       "    </tr>\n",
       "    <tr>\n",
       "      <th>7526</th>\n",
       "      <td>5913508</td>\n",
       "      <td>Katibim</td>\n",
       "      <td>208</td>\n",
       "      <td>İstanbul</td>\n",
       "      <td>Mimar Sinan Mahallesi, Harem Sahilyolu, No 53,...</td>\n",
       "      <td>Üsküdar Merkez</td>\n",
       "      <td>Üsküdar Merkez, İstanbul</td>\n",
       "      <td>29.010808</td>\n",
       "      <td>41.025501</td>\n",
       "      <td>Restaurant Cafe, Kebab, Turkish Pizza</td>\n",
       "      <td>...</td>\n",
       "      <td>Turkish Lira(TL)</td>\n",
       "      <td>0</td>\n",
       "      <td>0</td>\n",
       "      <td>0</td>\n",
       "      <td>0</td>\n",
       "      <td>4</td>\n",
       "      <td>4.2</td>\n",
       "      <td>5BA829</td>\n",
       "      <td>Very Good</td>\n",
       "      <td>1141</td>\n",
       "    </tr>\n",
       "  </tbody>\n",
       "</table>\n",
       "<p>7527 rows × 21 columns</p>\n",
       "</div>"
      ],
      "text/plain": [
       "      restaurant_id                    restaurant_name  country_code  \\\n",
       "0           6310675         Mama Lou's Italian Kitchen           162   \n",
       "1           6310675         Mama Lou's Italian Kitchen           162   \n",
       "2           6314542                          Blackbird           162   \n",
       "3           6301293                           Banapple           162   \n",
       "4           6315689                           Bad Bird           162   \n",
       "...             ...                                ...           ...   \n",
       "7522        5912546                             Eataly           208   \n",
       "7523        5913006  Tarihi Çınaraltı Aile Çay Bahçesi           208   \n",
       "7524        5923535             Boon Cafe & Restaurant           208   \n",
       "7525        5914190                   Kanaat Lokantası           208   \n",
       "7526        5913508                            Katibim           208   \n",
       "\n",
       "                city                                            address  \\\n",
       "0     Las Piñas City  Block 1, Lot 36, Tropical Avenue Corner Tropic...   \n",
       "1     Las Piñas City  Block 1, Lot 36, Tropical Avenue Corner Tropic...   \n",
       "2        Makati City  Nielson Tower, Ayala Triangle Gardens, Salcedo...   \n",
       "3        Makati City  Ayala Triangle Gardens, Salcedo Village, Makat...   \n",
       "4        Makati City  Hole In The Wall, Floor 4, Century City Mall, ...   \n",
       "...              ...                                                ...   \n",
       "7522        İstanbul  Zorlu Center AVM, Köprü Katı, Levazım Mahalles...   \n",
       "7523        İstanbul  Çengelköy Mahallesi, Çınaraltı Camii Sokak, No...   \n",
       "7524        İstanbul  Çengelköy Mahallesi, Çengelköy Caddesi, Kara S...   \n",
       "7525        İstanbul  Sultantepe Mahallesi, Selmani Pak Caddesi, No ...   \n",
       "7526        İstanbul  Mimar Sinan Mahallesi, Harem Sahilyolu, No 53,...   \n",
       "\n",
       "                                               locality  \\\n",
       "0                                      BF International   \n",
       "1                                      BF International   \n",
       "2     Ayala Triangle Gardens, Salcedo Village, Makat...   \n",
       "3     Ayala Triangle Gardens, Salcedo Village, Makat...   \n",
       "4             Century City Mall, Poblacion, Makati City   \n",
       "...                                                 ...   \n",
       "7522                Zorlu Center AVM, Levazım, Beşiktaş   \n",
       "7523                                   Çengelköy Merkez   \n",
       "7524                                   Çengelköy Merkez   \n",
       "7525                                     Üsküdar Merkez   \n",
       "7526                                     Üsküdar Merkez   \n",
       "\n",
       "                                       locality_verbose   longitude  \\\n",
       "0                      BF International, Las Piñas City  121.009787   \n",
       "1                      BF International, Las Piñas City  121.009787   \n",
       "2     Ayala Triangle Gardens, Salcedo Village, Makat...  121.024562   \n",
       "3     Ayala Triangle Gardens, Salcedo Village, Makat...  121.023171   \n",
       "4     Century City Mall, Poblacion, Makati City, Mak...  121.027708   \n",
       "...                                                 ...         ...   \n",
       "7522      Zorlu Center AVM, Levazım, Beşiktaş, İstanbul   29.017326   \n",
       "7523                         Çengelköy Merkez, İstanbul   29.052620   \n",
       "7524                         Çengelköy Merkez, İstanbul   29.052623   \n",
       "7525                           Üsküdar Merkez, İstanbul   29.016590   \n",
       "7526                           Üsküdar Merkez, İstanbul   29.010808   \n",
       "\n",
       "       latitude                                 cuisines  ...  \\\n",
       "0     14.447615                                  Italian  ...   \n",
       "1     14.447615                                  Italian  ...   \n",
       "2     14.556042                          European, Asian  ...   \n",
       "3     14.556196      Filipino, American, Italian, Bakery  ...   \n",
       "4     14.565899                                 American  ...   \n",
       "...         ...                                      ...  ...   \n",
       "7522  41.065322               Italian, Pizza, Fresh Fish  ...   \n",
       "7523  41.050280  Fast Food, Izgara, Seafood, Tea, Coffee  ...   \n",
       "7524  41.050717                          Restaurant Cafe  ...   \n",
       "7525  41.025741                        Home-made, Izgara  ...   \n",
       "7526  41.025501    Restaurant Cafe, Kebab, Turkish Pizza  ...   \n",
       "\n",
       "              currency has_table_booking  has_online_delivery  \\\n",
       "0     Botswana Pula(P)                 1                    0   \n",
       "1     Botswana Pula(P)                 1                    0   \n",
       "2     Botswana Pula(P)                 0                    0   \n",
       "3     Botswana Pula(P)                 0                    0   \n",
       "4     Botswana Pula(P)                 0                    0   \n",
       "...                ...               ...                  ...   \n",
       "7522  Turkish Lira(TL)                 0                    0   \n",
       "7523  Turkish Lira(TL)                 0                    0   \n",
       "7524  Turkish Lira(TL)                 0                    0   \n",
       "7525  Turkish Lira(TL)                 0                    0   \n",
       "7526  Turkish Lira(TL)                 0                    0   \n",
       "\n",
       "      is_delivering_now  switch_to_order_menu  price_range  aggregate_rating  \\\n",
       "0                     0                     0            3               4.6   \n",
       "1                     0                     0            3               4.6   \n",
       "2                     0                     0            4               4.7   \n",
       "3                     0                     0            3               4.4   \n",
       "4                     0                     0            3               4.4   \n",
       "...                 ...                   ...          ...               ...   \n",
       "7522                  0                     0            4               4.3   \n",
       "7523                  0                     0            2               4.5   \n",
       "7524                  0                     0            4               4.2   \n",
       "7525                  0                     0            3               4.0   \n",
       "7526                  0                     0            4               4.2   \n",
       "\n",
       "      rating_color rating_text votes  \n",
       "0           3F7E00   Excellent   619  \n",
       "1           3F7E00   Excellent   619  \n",
       "2           3F7E00   Excellent   469  \n",
       "3           5BA829   Very Good   867  \n",
       "4           5BA829   Very Good   858  \n",
       "...            ...         ...   ...  \n",
       "7522        5BA829   Very Good  1367  \n",
       "7523        3F7E00   Excellent  1172  \n",
       "7524        5BA829   Very Good  1160  \n",
       "7525        5BA829   Very Good   770  \n",
       "7526        5BA829   Very Good  1141  \n",
       "\n",
       "[7527 rows x 21 columns]"
      ]
     },
     "execution_count": 4,
     "metadata": {},
     "output_type": "execute_result"
    }
   ],
   "source": [
    "#Aqui vamos renomear os nomes das colunas, deixando tudo maíusculo e onde tem espaço substituir por _\n",
    "#Função\n",
    "def rename_columns(df1):\n",
    "    title = lambda x: inflection.titleize(x)\n",
    "    \n",
    "    snakecase = lambda x: inflection.underscore(x)\n",
    "    \n",
    "    spaces = lambda x: x.replace(\" \", \"\")\n",
    "    \n",
    "    cols_old = list(df1.columns)\n",
    "    \n",
    "    cols_old = list(map(title, cols_old))\n",
    "    \n",
    "    cols_old = list(map(spaces, cols_old))\n",
    "    \n",
    "    cols_new = list(map(snakecase, cols_old))\n",
    "    \n",
    "    df1.columns = cols_new\n",
    "    \n",
    "    return df1\n",
    "#Aqui temos que chamar a função, assim acontece a substituição dos nomes\n",
    "rename_columns(df1)"
   ]
  },
  {
   "cell_type": "code",
   "execution_count": 5,
   "id": "40ae4d8d-38ff-4a2a-8f02-d21f4e7e1ec1",
   "metadata": {},
   "outputs": [],
   "source": [
    "#Aqui vamos alterar o nome dos Países para o código deles.\n",
    "#Função\n",
    "COUNTRIES = {\n",
    "1: \"India\",\n",
    "14: \"Australia\",\n",
    "30: \"Brazil\",\n",
    "37: \"Canada\",\n",
    "94: \"Indonesia\",\n",
    "148: \"New Zeland\",\n",
    "162: \"Philippines\",\n",
    "166: \"Qatar\",\n",
    "184: \"Singapure\",\n",
    "189: \"South Africa\",\n",
    "191: \"Sri Lanka\",\n",
    "208: \"Turkey\",\n",
    "214: \"United Arab Emirates\",\n",
    "215: \"England\",\n",
    "216: \"United States of America\",\n",
    "}\n",
    "def country_name(country_id):\n",
    "    return COUNTRIES[country_id]"
   ]
  },
  {
   "cell_type": "code",
   "execution_count": 6,
   "id": "5ca73575-e886-488b-925c-b5cc14d8e319",
   "metadata": {},
   "outputs": [],
   "source": [
    "#Criação do Tipo de Categoria de Comida\n",
    "#Função\n",
    "def create_price_tye(price_range):\n",
    "    if price_range == 1:\n",
    "        return \"cheap\"\n",
    "    elif price_range == 2:\n",
    "        return \"normal\"\n",
    "    elif price_range == 3:\n",
    "        return \"expensive\"\n",
    "    else:\n",
    "        return \"gourmet\"\n"
   ]
  },
  {
   "cell_type": "code",
   "execution_count": 7,
   "id": "d28ea2c9-574f-40bd-942d-fcd25c5707d7",
   "metadata": {},
   "outputs": [],
   "source": [
    "#Criação do tipo das cores, nada mais do que substituir os códigos pelos nomes das cores.\n",
    "COLORS = {\n",
    "\"3F7E00\": \"darkgreen\",\n",
    "\"5BA829\": \"green\",\n",
    "\"9ACD32\": \"lightgreen\",\n",
    "\"CDD614\": \"orange\",\n",
    "\"FFBA00\": \"red\",\n",
    "\"CBCBC8\": \"darkred\",\n",
    "\"FF7800\": \"darkred\",\n",
    "}\n",
    "def color_name(rating_color):\n",
    "    return COLORS[rating_color]"
   ]
  },
  {
   "cell_type": "code",
   "execution_count": 8,
   "id": "377e70bd-cf55-4f96-b267-2ca14d0a633a",
   "metadata": {},
   "outputs": [],
   "source": [
    "#Devemos aplicar o .apply(country_name) para finalizar a função que criamos anteriormente.\n",
    "df1[\"country_code\"] = df1[\"country_code\"].apply(country_name)\n",
    "#Devemos aplicar o .apply(create_price_tye) para finalizar a função que criamos anteriormente.\n",
    "df1[\"price_range\"] = df1[\"price_range\"].apply(create_price_tye)\n",
    "#Devemos aplicar o .apply(color_name) para finalizar a função que criamos anteriormente.\n",
    "df1[\"rating_color\"] = df1[\"rating_color\"].apply(color_name)"
   ]
  },
  {
   "cell_type": "code",
   "execution_count": 9,
   "id": "2b37a65e-39f4-4b3a-a63f-dfbf73e6e424",
   "metadata": {},
   "outputs": [],
   "source": [
    "#Aqui categorizamos os restaurantes por só UM tipo de comida, o exercício pede assim\n",
    "df1[\"cuisines\"] = df1.loc[:, \"cuisines\"].astype(str).apply(lambda x: x.split(\",\")[0])"
   ]
  },
  {
   "cell_type": "code",
   "execution_count": 10,
   "id": "43ca5904-d9e2-459b-8279-402d15165611",
   "metadata": {},
   "outputs": [
    {
     "data": {
      "text/html": [
       "<div>\n",
       "<style scoped>\n",
       "    .dataframe tbody tr th:only-of-type {\n",
       "        vertical-align: middle;\n",
       "    }\n",
       "\n",
       "    .dataframe tbody tr th {\n",
       "        vertical-align: top;\n",
       "    }\n",
       "\n",
       "    .dataframe thead th {\n",
       "        text-align: right;\n",
       "    }\n",
       "</style>\n",
       "<table border=\"1\" class=\"dataframe\">\n",
       "  <thead>\n",
       "    <tr style=\"text-align: right;\">\n",
       "      <th></th>\n",
       "      <th>restaurant_id</th>\n",
       "      <th>restaurant_name</th>\n",
       "      <th>country_code</th>\n",
       "      <th>city</th>\n",
       "      <th>address</th>\n",
       "      <th>locality</th>\n",
       "      <th>locality_verbose</th>\n",
       "      <th>longitude</th>\n",
       "      <th>latitude</th>\n",
       "      <th>cuisines</th>\n",
       "      <th>...</th>\n",
       "      <th>currency</th>\n",
       "      <th>has_table_booking</th>\n",
       "      <th>has_online_delivery</th>\n",
       "      <th>is_delivering_now</th>\n",
       "      <th>switch_to_order_menu</th>\n",
       "      <th>price_range</th>\n",
       "      <th>aggregate_rating</th>\n",
       "      <th>rating_color</th>\n",
       "      <th>rating_text</th>\n",
       "      <th>votes</th>\n",
       "    </tr>\n",
       "  </thead>\n",
       "  <tbody>\n",
       "    <tr>\n",
       "      <th>0</th>\n",
       "      <td>6310675</td>\n",
       "      <td>Mama Lou's Italian Kitchen</td>\n",
       "      <td>Philippines</td>\n",
       "      <td>Las Piñas City</td>\n",
       "      <td>Block 1, Lot 36, Tropical Avenue Corner Tropic...</td>\n",
       "      <td>BF International</td>\n",
       "      <td>BF International, Las Piñas City</td>\n",
       "      <td>121.009787</td>\n",
       "      <td>14.447615</td>\n",
       "      <td>Italian</td>\n",
       "      <td>...</td>\n",
       "      <td>Botswana Pula(P)</td>\n",
       "      <td>1</td>\n",
       "      <td>0</td>\n",
       "      <td>0</td>\n",
       "      <td>0</td>\n",
       "      <td>expensive</td>\n",
       "      <td>4.6</td>\n",
       "      <td>darkgreen</td>\n",
       "      <td>Excellent</td>\n",
       "      <td>619</td>\n",
       "    </tr>\n",
       "  </tbody>\n",
       "</table>\n",
       "<p>1 rows × 21 columns</p>\n",
       "</div>"
      ],
      "text/plain": [
       "   restaurant_id             restaurant_name country_code            city  \\\n",
       "0        6310675  Mama Lou's Italian Kitchen  Philippines  Las Piñas City   \n",
       "\n",
       "                                             address          locality  \\\n",
       "0  Block 1, Lot 36, Tropical Avenue Corner Tropic...  BF International   \n",
       "\n",
       "                   locality_verbose   longitude   latitude cuisines  ...  \\\n",
       "0  BF International, Las Piñas City  121.009787  14.447615  Italian  ...   \n",
       "\n",
       "           currency has_table_booking  has_online_delivery  is_delivering_now  \\\n",
       "0  Botswana Pula(P)                 1                    0                  0   \n",
       "\n",
       "   switch_to_order_menu  price_range aggregate_rating  rating_color  \\\n",
       "0                     0    expensive              4.6     darkgreen   \n",
       "\n",
       "  rating_text votes  \n",
       "0   Excellent   619  \n",
       "\n",
       "[1 rows x 21 columns]"
      ]
     },
     "execution_count": 10,
     "metadata": {},
     "output_type": "execute_result"
    }
   ],
   "source": [
    "df1.head(1)"
   ]
  },
  {
   "cell_type": "markdown",
   "id": "75e20c32-b724-44fe-976c-bf153b65ea9f",
   "metadata": {},
   "source": [
    "Descrição das colunas\n",
    "\n",
    "Column\t                       Description\n",
    "Restaurant ID\t               ID do restaurante\n",
    "Restaurant Name\t               Nome do Restaurante\n",
    "Country Code\t               Código do País\n",
    "City\t                       Nome da Cidade onde o restaurante está\n",
    "Address\t                       Endereço do restaurante\n",
    "Locality\t                   Localização e pontos de referência do restaurante\n",
    "Locality Verbose\t           Localização e pontos de referência do restaurante (Mais informações)\n",
    "Longitude\t                   Ponto geográfico de Longitude do Restaurante\n",
    "Latitude\t                   Ponto geográfico de Latitude do Restaurante\n",
    "Cuisines\t                   Tipos de Culinária servidos no restaurante\n",
    "Average Cost for two\t       Preço Médio de um prato para duas pessoas no restaurante\n",
    "Currency\t                   Moeda do país\n",
    "Has Table booking\t           Se o restaurante possui serviços de reserva; 1 - Sim; 0 - Não\n",
    "Has Online delivery\t           Se o restaurante possui serviços de pedido on-line; 1 - Sim; 0 - Não\n",
    "Is delivering now\t           Se o restaurante faz entregas; 1 - Sim; 0 - Não\n",
    "Switch to order menu\t-\n",
    "Price range\t                   Variação de preços do restaurante; 1 a 4 - Quanto maior o valor, mais caro serão os pratos\n",
    "Aggregate rating\t           Nota média do restaurante\n",
    "Rating color\t               Código Hexadecimal da cor do restaurante com base em sua nota média\n",
    "Rating text\t                   Categoria em que o restaurante está com base em sua nota média\n",
    "Votes\t                       Quantidade de avaliações que o restaurante já recebeu"
   ]
  },
  {
   "cell_type": "code",
   "execution_count": 11,
   "id": "c12548d3-20ef-4602-9567-0fa4bc42b98b",
   "metadata": {},
   "outputs": [
    {
     "data": {
      "text/plain": [
       "Index(['restaurant_id', 'restaurant_name', 'country_code', 'city', 'address',\n",
       "       'locality', 'locality_verbose', 'longitude', 'latitude', 'cuisines',\n",
       "       'average_cost_for_two', 'currency', 'has_table_booking',\n",
       "       'has_online_delivery', 'is_delivering_now', 'switch_to_order_menu',\n",
       "       'price_range', 'aggregate_rating', 'rating_color', 'rating_text',\n",
       "       'votes'],\n",
       "      dtype='object')"
      ]
     },
     "execution_count": 11,
     "metadata": {},
     "output_type": "execute_result"
    }
   ],
   "source": [
    "df1.columns"
   ]
  },
  {
   "cell_type": "code",
   "execution_count": 12,
   "id": "5bab3a56-1814-4d55-87e6-b322a0d60e95",
   "metadata": {
    "tags": []
   },
   "outputs": [
    {
     "name": "stdout",
     "output_type": "stream",
     "text": [
      "[0]\n"
     ]
    }
   ],
   "source": [
    "#Aqui vou verificar se há alguma coluna com somente 1 dado, nesse caso eu substituo o nome da coluna por outra e verifico\n",
    "#Nesse caso a única coluna que possui somente 1 dado é a coluna abaixo, então vou remove-la.\n",
    "\n",
    "valores_unicos = df1[\"switch_to_order_menu\"].unique()\n",
    "print(valores_unicos)"
   ]
  },
  {
   "cell_type": "code",
   "execution_count": 13,
   "id": "3765a582-1593-4cea-9500-fe66d934d8bc",
   "metadata": {
    "tags": []
   },
   "outputs": [],
   "source": [
    "#Aqui vamos fazer a exclusão dessa coluna com valores únicos\n",
    "df1 = df1.drop(\"switch_to_order_menu\", axis=1)"
   ]
  },
  {
   "cell_type": "code",
   "execution_count": 14,
   "id": "17e10451-74e0-44bd-9c56-c2946c7676e6",
   "metadata": {},
   "outputs": [
    {
     "data": {
      "text/plain": [
       "Index(['restaurant_id', 'restaurant_name', 'country_code', 'city', 'address',\n",
       "       'locality', 'locality_verbose', 'longitude', 'latitude', 'cuisines',\n",
       "       'average_cost_for_two', 'currency', 'has_table_booking',\n",
       "       'has_online_delivery', 'is_delivering_now', 'price_range',\n",
       "       'aggregate_rating', 'rating_color', 'rating_text', 'votes'],\n",
       "      dtype='object')"
      ]
     },
     "execution_count": 14,
     "metadata": {},
     "output_type": "execute_result"
    }
   ],
   "source": [
    "df1.columns"
   ]
  },
  {
   "cell_type": "code",
   "execution_count": 15,
   "id": "dbd09621-2a54-4662-9b80-401db19ab84d",
   "metadata": {},
   "outputs": [
    {
     "data": {
      "text/plain": [
       "585"
      ]
     },
     "execution_count": 15,
     "metadata": {},
     "output_type": "execute_result"
    }
   ],
   "source": [
    "#Aqui vamos verificar se há valores duplicados\n",
    "df1.duplicated().sum()"
   ]
  },
  {
   "cell_type": "code",
   "execution_count": 16,
   "id": "37a4455b-ba87-4036-a194-86aa865173ac",
   "metadata": {},
   "outputs": [],
   "source": [
    "#Como acima vimos que há valores duplicados, vamos exclui-los\n",
    "df1 = df1.drop_duplicates().reset_index()\n",
    "del df1[\"index\"]"
   ]
  },
  {
   "cell_type": "code",
   "execution_count": 17,
   "id": "a4b3719e-47eb-49b3-8548-8c99bd58267f",
   "metadata": {},
   "outputs": [
    {
     "data": {
      "text/plain": [
       "0"
      ]
     },
     "execution_count": 17,
     "metadata": {},
     "output_type": "execute_result"
    }
   ],
   "source": [
    "df1.duplicated().sum()"
   ]
  },
  {
   "cell_type": "code",
   "execution_count": 18,
   "id": "b92af91c-27e7-4c99-a792-403247c8448b",
   "metadata": {},
   "outputs": [
    {
     "data": {
      "text/plain": [
       "restaurant_id           0\n",
       "restaurant_name         0\n",
       "country_code            0\n",
       "city                    0\n",
       "address                 0\n",
       "locality                0\n",
       "locality_verbose        0\n",
       "longitude               0\n",
       "latitude                0\n",
       "cuisines                0\n",
       "average_cost_for_two    0\n",
       "currency                0\n",
       "has_table_booking       0\n",
       "has_online_delivery     0\n",
       "is_delivering_now       0\n",
       "price_range             0\n",
       "aggregate_rating        0\n",
       "rating_color            0\n",
       "rating_text             0\n",
       "votes                   0\n",
       "dtype: int64"
      ]
     },
     "execution_count": 18,
     "metadata": {},
     "output_type": "execute_result"
    }
   ],
   "source": [
    "#Aqui vamos verificar se há valores NaN.\n",
    "#Como não há valores NaN, não precisamos fazer a retirada deles.\n",
    "df1.isnull().sum()"
   ]
  },
  {
   "cell_type": "code",
   "execution_count": 19,
   "id": "d804f398-8490-4cd7-80ec-27bfd58b30b7",
   "metadata": {},
   "outputs": [],
   "source": [
    "#daqui pra baixo vamos criar uma tabela estatística descritiva\n",
    "def get_numerical_attributes(df1):\n",
    "    return df1.select_dtypes(include=['int64', 'float64'])"
   ]
  },
  {
   "cell_type": "code",
   "execution_count": 20,
   "id": "a079ec71-f780-42a5-b03e-84c699e16ea2",
   "metadata": {},
   "outputs": [],
   "source": [
    "def get_first_order_statistics(df1):\n",
    "    # Central Tendency Metrics\n",
    "    mean = pd.DataFrame(df1.apply(np.mean)).T\n",
    "    median = pd.DataFrame(df1.apply(np.median)).T\n",
    "\n",
    "    # Dispersion Metrics\n",
    "    min_ = pd.DataFrame(df1.apply(min)).T\n",
    "    max_ = pd.DataFrame(df1.apply(max)).T\n",
    "    range_ = pd.DataFrame(df1.apply(lambda x: x.max() - x.min())).T\n",
    "    std = pd.DataFrame(df1.apply(np.std)).T\n",
    "    skew = pd.DataFrame(df1.apply(lambda x: x.skew())).T\n",
    "    kurtosis = pd.DataFrame(df1.apply(lambda x: x.kurtosis())).T\n",
    "\n",
    "    # Metrics Concatenation\n",
    "    m = pd.concat([min_, max_, range_, mean, median, std, skew, kurtosis]).T.reset_index()\n",
    "    m.columns = ['attributes', 'min', 'max', 'range', 'mean', 'median', 'std', 'skew', 'kurtosis']\n",
    "    \n",
    "    return m"
   ]
  },
  {
   "cell_type": "code",
   "execution_count": 21,
   "id": "324d15dd-25f7-4fbf-ad3e-dc1304ed35e0",
   "metadata": {},
   "outputs": [],
   "source": [
    "numerical_data = get_numerical_attributes(df1)"
   ]
  },
  {
   "cell_type": "code",
   "execution_count": 22,
   "id": "5dab50ca-5339-4205-b3a1-8747506cde9e",
   "metadata": {},
   "outputs": [
    {
     "data": {
      "text/html": [
       "<div>\n",
       "<style scoped>\n",
       "    .dataframe tbody tr th:only-of-type {\n",
       "        vertical-align: middle;\n",
       "    }\n",
       "\n",
       "    .dataframe tbody tr th {\n",
       "        vertical-align: top;\n",
       "    }\n",
       "\n",
       "    .dataframe thead th {\n",
       "        text-align: right;\n",
       "    }\n",
       "</style>\n",
       "<table border=\"1\" class=\"dataframe\">\n",
       "  <thead>\n",
       "    <tr style=\"text-align: right;\">\n",
       "      <th></th>\n",
       "      <th>attributes</th>\n",
       "      <th>min</th>\n",
       "      <th>max</th>\n",
       "      <th>range</th>\n",
       "      <th>mean</th>\n",
       "      <th>median</th>\n",
       "      <th>std</th>\n",
       "      <th>skew</th>\n",
       "      <th>kurtosis</th>\n",
       "    </tr>\n",
       "  </thead>\n",
       "  <tbody>\n",
       "    <tr>\n",
       "      <th>0</th>\n",
       "      <td>restaurant_id</td>\n",
       "      <td>549.000000</td>\n",
       "      <td>1.904028e+07</td>\n",
       "      <td>1.903973e+07</td>\n",
       "      <td>1.076193e+07</td>\n",
       "      <td>7.900186e+06</td>\n",
       "      <td>7.037181e+06</td>\n",
       "      <td>-0.142004</td>\n",
       "      <td>-1.714148</td>\n",
       "    </tr>\n",
       "    <tr>\n",
       "      <th>1</th>\n",
       "      <td>longitude</td>\n",
       "      <td>-122.700455</td>\n",
       "      <td>1.753106e+02</td>\n",
       "      <td>2.980110e+02</td>\n",
       "      <td>3.144123e+01</td>\n",
       "      <td>7.375862e+01</td>\n",
       "      <td>7.905341e+01</td>\n",
       "      <td>-0.614339</td>\n",
       "      <td>-0.734406</td>\n",
       "    </tr>\n",
       "    <tr>\n",
       "      <th>2</th>\n",
       "      <td>latitude</td>\n",
       "      <td>-41.330428</td>\n",
       "      <td>5.597698e+01</td>\n",
       "      <td>9.730741e+01</td>\n",
       "      <td>1.943494e+01</td>\n",
       "      <td>2.527002e+01</td>\n",
       "      <td>2.349819e+01</td>\n",
       "      <td>-1.075934</td>\n",
       "      <td>0.549946</td>\n",
       "    </tr>\n",
       "    <tr>\n",
       "      <th>3</th>\n",
       "      <td>average_cost_for_two</td>\n",
       "      <td>0.000000</td>\n",
       "      <td>2.500002e+07</td>\n",
       "      <td>2.500002e+07</td>\n",
       "      <td>7.506579e+03</td>\n",
       "      <td>2.500000e+02</td>\n",
       "      <td>3.022297e+05</td>\n",
       "      <td>81.500479</td>\n",
       "      <td>6737.976131</td>\n",
       "    </tr>\n",
       "    <tr>\n",
       "      <th>4</th>\n",
       "      <td>has_table_booking</td>\n",
       "      <td>0.000000</td>\n",
       "      <td>1.000000e+00</td>\n",
       "      <td>1.000000e+00</td>\n",
       "      <td>6.050130e-02</td>\n",
       "      <td>0.000000e+00</td>\n",
       "      <td>2.384133e-01</td>\n",
       "      <td>3.687661</td>\n",
       "      <td>11.602188</td>\n",
       "    </tr>\n",
       "    <tr>\n",
       "      <th>5</th>\n",
       "      <td>has_online_delivery</td>\n",
       "      <td>0.000000</td>\n",
       "      <td>1.000000e+00</td>\n",
       "      <td>1.000000e+00</td>\n",
       "      <td>3.497551e-01</td>\n",
       "      <td>0.000000e+00</td>\n",
       "      <td>4.768925e-01</td>\n",
       "      <td>0.630236</td>\n",
       "      <td>-1.603265</td>\n",
       "    </tr>\n",
       "    <tr>\n",
       "      <th>6</th>\n",
       "      <td>is_delivering_now</td>\n",
       "      <td>0.000000</td>\n",
       "      <td>1.000000e+00</td>\n",
       "      <td>1.000000e+00</td>\n",
       "      <td>1.745895e-01</td>\n",
       "      <td>0.000000e+00</td>\n",
       "      <td>3.796156e-01</td>\n",
       "      <td>1.714792</td>\n",
       "      <td>0.940783</td>\n",
       "    </tr>\n",
       "    <tr>\n",
       "      <th>7</th>\n",
       "      <td>aggregate_rating</td>\n",
       "      <td>0.000000</td>\n",
       "      <td>4.900000e+00</td>\n",
       "      <td>4.900000e+00</td>\n",
       "      <td>4.126765e+00</td>\n",
       "      <td>4.200000e+00</td>\n",
       "      <td>6.747053e-01</td>\n",
       "      <td>-3.941552</td>\n",
       "      <td>21.161428</td>\n",
       "    </tr>\n",
       "    <tr>\n",
       "      <th>8</th>\n",
       "      <td>votes</td>\n",
       "      <td>0.000000</td>\n",
       "      <td>4.133300e+04</td>\n",
       "      <td>4.133300e+04</td>\n",
       "      <td>6.043840e+02</td>\n",
       "      <td>3.280000e+02</td>\n",
       "      <td>1.115664e+03</td>\n",
       "      <td>11.382713</td>\n",
       "      <td>291.559110</td>\n",
       "    </tr>\n",
       "  </tbody>\n",
       "</table>\n",
       "</div>"
      ],
      "text/plain": [
       "             attributes         min           max         range          mean  \\\n",
       "0         restaurant_id  549.000000  1.904028e+07  1.903973e+07  1.076193e+07   \n",
       "1             longitude -122.700455  1.753106e+02  2.980110e+02  3.144123e+01   \n",
       "2              latitude  -41.330428  5.597698e+01  9.730741e+01  1.943494e+01   \n",
       "3  average_cost_for_two    0.000000  2.500002e+07  2.500002e+07  7.506579e+03   \n",
       "4     has_table_booking    0.000000  1.000000e+00  1.000000e+00  6.050130e-02   \n",
       "5   has_online_delivery    0.000000  1.000000e+00  1.000000e+00  3.497551e-01   \n",
       "6     is_delivering_now    0.000000  1.000000e+00  1.000000e+00  1.745895e-01   \n",
       "7      aggregate_rating    0.000000  4.900000e+00  4.900000e+00  4.126765e+00   \n",
       "8                 votes    0.000000  4.133300e+04  4.133300e+04  6.043840e+02   \n",
       "\n",
       "         median           std       skew     kurtosis  \n",
       "0  7.900186e+06  7.037181e+06  -0.142004    -1.714148  \n",
       "1  7.375862e+01  7.905341e+01  -0.614339    -0.734406  \n",
       "2  2.527002e+01  2.349819e+01  -1.075934     0.549946  \n",
       "3  2.500000e+02  3.022297e+05  81.500479  6737.976131  \n",
       "4  0.000000e+00  2.384133e-01   3.687661    11.602188  \n",
       "5  0.000000e+00  4.768925e-01   0.630236    -1.603265  \n",
       "6  0.000000e+00  3.796156e-01   1.714792     0.940783  \n",
       "7  4.200000e+00  6.747053e-01  -3.941552    21.161428  \n",
       "8  3.280000e+02  1.115664e+03  11.382713   291.559110  "
      ]
     },
     "execution_count": 22,
     "metadata": {},
     "output_type": "execute_result"
    }
   ],
   "source": [
    "get_first_order_statistics(numerical_data)"
   ]
  },
  {
   "cell_type": "code",
   "execution_count": 23,
   "id": "31f27254-d4e7-4ca7-8d8c-e3451c2bc755",
   "metadata": {},
   "outputs": [
    {
     "data": {
      "text/html": [
       "<div>\n",
       "<style scoped>\n",
       "    .dataframe tbody tr th:only-of-type {\n",
       "        vertical-align: middle;\n",
       "    }\n",
       "\n",
       "    .dataframe tbody tr th {\n",
       "        vertical-align: top;\n",
       "    }\n",
       "\n",
       "    .dataframe thead th {\n",
       "        text-align: right;\n",
       "    }\n",
       "</style>\n",
       "<table border=\"1\" class=\"dataframe\">\n",
       "  <thead>\n",
       "    <tr style=\"text-align: right;\">\n",
       "      <th></th>\n",
       "      <th>restaurant_id</th>\n",
       "      <th>restaurant_name</th>\n",
       "      <th>country_code</th>\n",
       "      <th>city</th>\n",
       "      <th>address</th>\n",
       "      <th>locality</th>\n",
       "      <th>locality_verbose</th>\n",
       "      <th>longitude</th>\n",
       "      <th>latitude</th>\n",
       "      <th>cuisines</th>\n",
       "      <th>average_cost_for_two</th>\n",
       "      <th>currency</th>\n",
       "      <th>has_table_booking</th>\n",
       "      <th>has_online_delivery</th>\n",
       "      <th>is_delivering_now</th>\n",
       "      <th>price_range</th>\n",
       "      <th>aggregate_rating</th>\n",
       "      <th>rating_color</th>\n",
       "      <th>rating_text</th>\n",
       "      <th>votes</th>\n",
       "    </tr>\n",
       "  </thead>\n",
       "  <tbody>\n",
       "    <tr>\n",
       "      <th>0</th>\n",
       "      <td>6310675</td>\n",
       "      <td>Mama Lou's Italian Kitchen</td>\n",
       "      <td>Philippines</td>\n",
       "      <td>Las Piñas City</td>\n",
       "      <td>Block 1, Lot 36, Tropical Avenue Corner Tropic...</td>\n",
       "      <td>BF International</td>\n",
       "      <td>BF International, Las Piñas City</td>\n",
       "      <td>121.009787</td>\n",
       "      <td>14.447615</td>\n",
       "      <td>Italian</td>\n",
       "      <td>1100</td>\n",
       "      <td>Botswana Pula(P)</td>\n",
       "      <td>1</td>\n",
       "      <td>0</td>\n",
       "      <td>0</td>\n",
       "      <td>expensive</td>\n",
       "      <td>4.6</td>\n",
       "      <td>darkgreen</td>\n",
       "      <td>Excellent</td>\n",
       "      <td>619</td>\n",
       "    </tr>\n",
       "  </tbody>\n",
       "</table>\n",
       "</div>"
      ],
      "text/plain": [
       "   restaurant_id             restaurant_name country_code            city  \\\n",
       "0        6310675  Mama Lou's Italian Kitchen  Philippines  Las Piñas City   \n",
       "\n",
       "                                             address          locality  \\\n",
       "0  Block 1, Lot 36, Tropical Avenue Corner Tropic...  BF International   \n",
       "\n",
       "                   locality_verbose   longitude   latitude cuisines  \\\n",
       "0  BF International, Las Piñas City  121.009787  14.447615  Italian   \n",
       "\n",
       "   average_cost_for_two          currency  has_table_booking  \\\n",
       "0                  1100  Botswana Pula(P)                  1   \n",
       "\n",
       "   has_online_delivery  is_delivering_now price_range  aggregate_rating  \\\n",
       "0                    0                  0   expensive               4.6   \n",
       "\n",
       "  rating_color rating_text  votes  \n",
       "0    darkgreen   Excellent    619  "
      ]
     },
     "execution_count": 23,
     "metadata": {},
     "output_type": "execute_result"
    }
   ],
   "source": [
    "df1.head(1)"
   ]
  },
  {
   "cell_type": "markdown",
   "id": "aed8574d-3d4c-45de-9cce-72728d89db42",
   "metadata": {},
   "source": [
    "## Geral"
   ]
  },
  {
   "cell_type": "markdown",
   "id": "9881c87f-5186-4d57-8495-6b806b95d20e",
   "metadata": {},
   "source": [
    "1. Quantos restaurantes únicos estão registrados?"
   ]
  },
  {
   "cell_type": "code",
   "execution_count": 24,
   "id": "e2eacb92-2c5d-40b7-81e2-056b84c2f756",
   "metadata": {},
   "outputs": [
    {
     "data": {
      "text/plain": [
       "6942"
      ]
     },
     "execution_count": 24,
     "metadata": {},
     "output_type": "execute_result"
    }
   ],
   "source": [
    "df1[\"restaurant_id\"].nunique()"
   ]
  },
  {
   "cell_type": "markdown",
   "id": "1c2b38dc-95ef-4382-ad45-79e43b7fdda7",
   "metadata": {},
   "source": [
    "2. Quantos países únicos estão registrados?\n"
   ]
  },
  {
   "cell_type": "code",
   "execution_count": 25,
   "id": "bc88009f-d34e-4605-99be-714ea65c428a",
   "metadata": {},
   "outputs": [
    {
     "data": {
      "text/plain": [
       "15"
      ]
     },
     "execution_count": 25,
     "metadata": {},
     "output_type": "execute_result"
    }
   ],
   "source": [
    "df1[\"country_code\"].nunique()"
   ]
  },
  {
   "cell_type": "markdown",
   "id": "052c32f6-6a1c-4810-8e7c-156d46079960",
   "metadata": {},
   "source": [
    "3. Quantas cidades únicas estão registradas?"
   ]
  },
  {
   "cell_type": "code",
   "execution_count": 26,
   "id": "c22ea890-2c37-4ae9-bb8c-428cf2e7435f",
   "metadata": {},
   "outputs": [
    {
     "data": {
      "text/plain": [
       "125"
      ]
     },
     "execution_count": 26,
     "metadata": {},
     "output_type": "execute_result"
    }
   ],
   "source": [
    "df1[\"city\"].nunique()"
   ]
  },
  {
   "cell_type": "markdown",
   "id": "f1a09ec5-3419-4be9-855f-09519d3939bf",
   "metadata": {},
   "source": [
    "4. Qual o total de avaliações feitas?"
   ]
  },
  {
   "cell_type": "code",
   "execution_count": 150,
   "id": "a72597e1-f2cd-4100-b23e-0bcfdf4de72d",
   "metadata": {},
   "outputs": [
    {
     "data": {
      "text/plain": [
       "'4.195.634'"
      ]
     },
     "execution_count": 150,
     "metadata": {},
     "output_type": "execute_result"
    }
   ],
   "source": [
    "aff = df1[\"votes\"].sum()\n",
    "f\"{aff:,}\".replace(\",\", \".\")"
   ]
  },
  {
   "cell_type": "markdown",
   "id": "eae769e9-49f4-4009-b7e9-c83c13552b17",
   "metadata": {},
   "source": [
    "5. Qual o total de tipos de culinária registrados"
   ]
  },
  {
   "cell_type": "code",
   "execution_count": 28,
   "id": "d44db9a2-9938-45d9-a88d-473ee8291ba4",
   "metadata": {},
   "outputs": [
    {
     "data": {
      "text/plain": [
       "166"
      ]
     },
     "execution_count": 28,
     "metadata": {},
     "output_type": "execute_result"
    }
   ],
   "source": [
    "df1[\"cuisines\"].nunique()"
   ]
  },
  {
   "cell_type": "markdown",
   "id": "947f781f-7100-4a53-824d-d257a1b78ca2",
   "metadata": {},
   "source": []
  },
  {
   "cell_type": "markdown",
   "id": "c79827ed-5ede-4c86-a3b2-875dff56b989",
   "metadata": {},
   "source": []
  },
  {
   "cell_type": "markdown",
   "id": "1d7d1be7-2172-4946-b95f-bdf8fdd4a9f6",
   "metadata": {},
   "source": [
    "## País"
   ]
  },
  {
   "cell_type": "markdown",
   "id": "9776ded1-c56d-4960-927f-a5f4ae3e9031",
   "metadata": {},
   "source": [
    "1. Qual o nome do país que possui mais cidades registradas?\n"
   ]
  },
  {
   "cell_type": "code",
   "execution_count": 29,
   "id": "b3366df8-ad74-4f83-b74a-5af1aad79eda",
   "metadata": {},
   "outputs": [
    {
     "data": {
      "text/plain": [
       "'India'"
      ]
     },
     "execution_count": 29,
     "metadata": {},
     "output_type": "execute_result"
    }
   ],
   "source": [
    "(df1[[\"country_code\", \"city\"]].groupby([\"country_code\"])\n",
    "                              .nunique()\n",
    "                              .sort_values(\"city\", ascending=False)\n",
    "                              .reset_index()).iloc[0,0]"
   ]
  },
  {
   "cell_type": "markdown",
   "id": "e99f6363-1de6-4d37-a1d3-28233b8316a3",
   "metadata": {},
   "source": [
    "2. Qual o nome do país que possui mais restaurantes registrados"
   ]
  },
  {
   "cell_type": "code",
   "execution_count": 30,
   "id": "07a3fc4d-4be4-45b3-b37b-87469fdcb5b3",
   "metadata": {},
   "outputs": [
    {
     "data": {
      "text/plain": [
       "'India'"
      ]
     },
     "execution_count": 30,
     "metadata": {},
     "output_type": "execute_result"
    }
   ],
   "source": [
    "(df1[[\"country_code\", \"restaurant_id\"]].groupby([\"country_code\"])\n",
    "                                       .nunique()\n",
    "                                       .sort_values(\"restaurant_id\", ascending=False)\n",
    "                                       .reset_index()).iloc[0,0]"
   ]
  },
  {
   "cell_type": "markdown",
   "id": "9d747711-efff-4f46-ad0f-48f362cca03e",
   "metadata": {},
   "source": [
    "3. Qual o nome do país que possui mais restaurantes com o nível de preço igual a 4\n",
    "registrados?\n"
   ]
  },
  {
   "cell_type": "code",
   "execution_count": 31,
   "id": "5da268f1-dba7-4be6-8edf-66fc157106ab",
   "metadata": {},
   "outputs": [
    {
     "data": {
      "text/plain": [
       "'United States of America'"
      ]
     },
     "execution_count": 31,
     "metadata": {},
     "output_type": "execute_result"
    }
   ],
   "source": [
    "(df1.loc[df1[\"price_range\"] == \"gourmet\", [\"country_code\", \"restaurant_id\"]]\n",
    "                                          .groupby([\"country_code\"])\n",
    "                                          .count()\n",
    "                                          .sort_values(\"restaurant_id\", ascending=False)\n",
    "                                          .reset_index()).iloc[0,0]"
   ]
  },
  {
   "cell_type": "markdown",
   "id": "fdee65f1-efbc-4dda-8b24-1cd7ce0a1362",
   "metadata": {},
   "source": [
    "4. Qual o nome do país que possui a maior quantidade de tipos de culinária distintos?"
   ]
  },
  {
   "cell_type": "code",
   "execution_count": 32,
   "id": "c4dd0522-fb79-41a6-9de4-342e85c2fa01",
   "metadata": {},
   "outputs": [
    {
     "data": {
      "text/plain": [
       "'India'"
      ]
     },
     "execution_count": 32,
     "metadata": {},
     "output_type": "execute_result"
    }
   ],
   "source": [
    "(df1[[\"country_code\", \"cuisines\"]].groupby([\"country_code\"])\n",
    "                                 .nunique()\n",
    "                                 .sort_values(\"cuisines\", ascending=False)\n",
    "                                 .reset_index()).iloc[0,0]"
   ]
  },
  {
   "cell_type": "markdown",
   "id": "c4ce2772-e211-4cf2-9a26-4e705e4039bb",
   "metadata": {},
   "source": [
    "5. Qual o nome do país que possui a maior quantidade de avaliações feitas?"
   ]
  },
  {
   "cell_type": "code",
   "execution_count": 33,
   "id": "b8e0dac7-83e2-410f-b2c5-82c4fade2e5f",
   "metadata": {},
   "outputs": [
    {
     "data": {
      "text/plain": [
       "'India'"
      ]
     },
     "execution_count": 33,
     "metadata": {},
     "output_type": "execute_result"
    }
   ],
   "source": [
    "(df1[[\"country_code\", \"votes\" ]].groupby([\"country_code\"])\n",
    "                                .sum()\n",
    "                                .sort_values(\"votes\", ascending=False)\n",
    "                                .reset_index()).iloc[0,0]"
   ]
  },
  {
   "cell_type": "markdown",
   "id": "d413db78-fd01-4523-ae1c-e86dd4101ff1",
   "metadata": {},
   "source": [
    "6. Qual o nome do país que possui a maior quantidade de restaurantes que fazem entrega?"
   ]
  },
  {
   "cell_type": "code",
   "execution_count": 34,
   "id": "9ee05293-2077-4d38-9223-d08132609824",
   "metadata": {},
   "outputs": [
    {
     "data": {
      "text/html": [
       "<div>\n",
       "<style scoped>\n",
       "    .dataframe tbody tr th:only-of-type {\n",
       "        vertical-align: middle;\n",
       "    }\n",
       "\n",
       "    .dataframe tbody tr th {\n",
       "        vertical-align: top;\n",
       "    }\n",
       "\n",
       "    .dataframe thead th {\n",
       "        text-align: right;\n",
       "    }\n",
       "</style>\n",
       "<table border=\"1\" class=\"dataframe\">\n",
       "  <thead>\n",
       "    <tr style=\"text-align: right;\">\n",
       "      <th></th>\n",
       "      <th>country_code</th>\n",
       "      <th>restaurant_id</th>\n",
       "    </tr>\n",
       "  </thead>\n",
       "  <tbody>\n",
       "    <tr>\n",
       "      <th>0</th>\n",
       "      <td>India</td>\n",
       "      <td>1150</td>\n",
       "    </tr>\n",
       "    <tr>\n",
       "      <th>1</th>\n",
       "      <td>United Arab Emirates</td>\n",
       "      <td>52</td>\n",
       "    </tr>\n",
       "    <tr>\n",
       "      <th>2</th>\n",
       "      <td>Philippines</td>\n",
       "      <td>7</td>\n",
       "    </tr>\n",
       "    <tr>\n",
       "      <th>3</th>\n",
       "      <td>Qatar</td>\n",
       "      <td>3</td>\n",
       "    </tr>\n",
       "  </tbody>\n",
       "</table>\n",
       "</div>"
      ],
      "text/plain": [
       "           country_code  restaurant_id\n",
       "0                 India           1150\n",
       "1  United Arab Emirates             52\n",
       "2           Philippines              7\n",
       "3                 Qatar              3"
      ]
     },
     "execution_count": 34,
     "metadata": {},
     "output_type": "execute_result"
    }
   ],
   "source": [
    "(df1.loc[df1[\"is_delivering_now\"] == 1, [\"country_code\", \"restaurant_id\"]].groupby([\"country_code\"])\n",
    "                                                                          .count()\n",
    "                                                                          .sort_values(\"restaurant_id\", ascending=False)\n",
    "                                                                          .reset_index())"
   ]
  },
  {
   "cell_type": "markdown",
   "id": "1fd8b382-b95d-470e-982e-c36852a21b4d",
   "metadata": {},
   "source": [
    "7. Qual o nome do país que possui a maior quantidade de restaurantes que aceitam reservas?"
   ]
  },
  {
   "cell_type": "code",
   "execution_count": 35,
   "id": "0941613c-e77d-4aa2-b281-93d258005b1e",
   "metadata": {},
   "outputs": [
    {
     "data": {
      "text/plain": [
       "'India'"
      ]
     },
     "execution_count": 35,
     "metadata": {},
     "output_type": "execute_result"
    }
   ],
   "source": [
    "(df1.loc[df1[\"has_table_booking\"] == 1, [\"country_code\", \"restaurant_id\"]].groupby([\"country_code\"])\n",
    "                                                                          .count()\n",
    "                                                                          .sort_values(\"restaurant_id\", ascending=False)\n",
    "                                                                          .reset_index()).iloc[0,0]"
   ]
  },
  {
   "cell_type": "markdown",
   "id": "fe5c504d-02c4-42c8-804b-3293a5b2fa39",
   "metadata": {},
   "source": [
    "8. Qual o nome do país que possui, na média, a maior quantidade de avaliações registrada?"
   ]
  },
  {
   "cell_type": "code",
   "execution_count": 36,
   "id": "e87b3b2c-730d-4a6d-bb97-44bdd3ec34ac",
   "metadata": {},
   "outputs": [
    {
     "data": {
      "text/plain": [
       "'Indonesia'"
      ]
     },
     "execution_count": 36,
     "metadata": {},
     "output_type": "execute_result"
    }
   ],
   "source": [
    "df1[[\"country_code\", \"votes\"]].groupby([\"country_code\"]).mean().sort_values(\"votes\", ascending=False).reset_index().iloc[0,0]"
   ]
  },
  {
   "cell_type": "markdown",
   "id": "6c17e8f2-d625-4ced-a560-67f2d023112c",
   "metadata": {},
   "source": [
    "9. Qual o nome do país que possui, na média, a maior nota média registrada?"
   ]
  },
  {
   "cell_type": "code",
   "execution_count": 37,
   "id": "698be17d-5006-4ba0-ad76-b0fadc2ab342",
   "metadata": {},
   "outputs": [
    {
     "data": {
      "text/plain": [
       "'Indonesia'"
      ]
     },
     "execution_count": 37,
     "metadata": {},
     "output_type": "execute_result"
    }
   ],
   "source": [
    "(df1[[\"country_code\", \"aggregate_rating\"]].groupby([\"country_code\"])\n",
    "                                         .mean()\n",
    "                                         .sort_values(\"aggregate_rating\", ascending=False)\n",
    "                                         .reset_index().iloc[0,0])"
   ]
  },
  {
   "cell_type": "markdown",
   "id": "ddb48a11-c69c-473e-b5e2-e18a48a51603",
   "metadata": {},
   "source": [
    "10. Qual o nome do país que possui, na média, a menor nota média registrada?"
   ]
  },
  {
   "cell_type": "code",
   "execution_count": 38,
   "id": "8c278059-3881-4e58-a26e-a313bdf5e13c",
   "metadata": {},
   "outputs": [
    {
     "data": {
      "text/plain": [
       "'Brazil'"
      ]
     },
     "execution_count": 38,
     "metadata": {},
     "output_type": "execute_result"
    }
   ],
   "source": [
    "(df1[[\"country_code\", \"aggregate_rating\"]].groupby([\"country_code\"])\n",
    "                                         .mean()\n",
    "                                         .sort_values(\"aggregate_rating\", ascending=True)\n",
    "                                         .reset_index().iloc[0,0])"
   ]
  },
  {
   "cell_type": "markdown",
   "id": "8800fe3b-01d0-4dc6-869b-c6ce85bed3d5",
   "metadata": {},
   "source": [
    "11. Qual a média de preço de um prato para dois por país?"
   ]
  },
  {
   "cell_type": "code",
   "execution_count": 39,
   "id": "7b247f3c-918a-4131-b949-b8655a18d2a9",
   "metadata": {},
   "outputs": [
    {
     "data": {
      "text/html": [
       "<div>\n",
       "<style scoped>\n",
       "    .dataframe tbody tr th:only-of-type {\n",
       "        vertical-align: middle;\n",
       "    }\n",
       "\n",
       "    .dataframe tbody tr th {\n",
       "        vertical-align: top;\n",
       "    }\n",
       "\n",
       "    .dataframe thead th {\n",
       "        text-align: right;\n",
       "    }\n",
       "</style>\n",
       "<table border=\"1\" class=\"dataframe\">\n",
       "  <thead>\n",
       "    <tr style=\"text-align: right;\">\n",
       "      <th></th>\n",
       "      <th>country_code</th>\n",
       "      <th>average_cost_for_two</th>\n",
       "    </tr>\n",
       "  </thead>\n",
       "  <tbody>\n",
       "    <tr>\n",
       "      <th>0</th>\n",
       "      <td>Indonesia</td>\n",
       "      <td>303000.00</td>\n",
       "    </tr>\n",
       "    <tr>\n",
       "      <th>1</th>\n",
       "      <td>Australia</td>\n",
       "      <td>138959.78</td>\n",
       "    </tr>\n",
       "    <tr>\n",
       "      <th>2</th>\n",
       "      <td>Sri Lanka</td>\n",
       "      <td>2579.38</td>\n",
       "    </tr>\n",
       "    <tr>\n",
       "      <th>3</th>\n",
       "      <td>Philippines</td>\n",
       "      <td>1227.82</td>\n",
       "    </tr>\n",
       "    <tr>\n",
       "      <th>4</th>\n",
       "      <td>India</td>\n",
       "      <td>703.60</td>\n",
       "    </tr>\n",
       "    <tr>\n",
       "      <th>5</th>\n",
       "      <td>South Africa</td>\n",
       "      <td>339.23</td>\n",
       "    </tr>\n",
       "    <tr>\n",
       "      <th>6</th>\n",
       "      <td>Qatar</td>\n",
       "      <td>174.00</td>\n",
       "    </tr>\n",
       "    <tr>\n",
       "      <th>7</th>\n",
       "      <td>United Arab Emirates</td>\n",
       "      <td>153.72</td>\n",
       "    </tr>\n",
       "    <tr>\n",
       "      <th>8</th>\n",
       "      <td>Singapure</td>\n",
       "      <td>141.44</td>\n",
       "    </tr>\n",
       "    <tr>\n",
       "      <th>9</th>\n",
       "      <td>Brazil</td>\n",
       "      <td>138.81</td>\n",
       "    </tr>\n",
       "    <tr>\n",
       "      <th>10</th>\n",
       "      <td>Turkey</td>\n",
       "      <td>128.58</td>\n",
       "    </tr>\n",
       "    <tr>\n",
       "      <th>11</th>\n",
       "      <td>New Zeland</td>\n",
       "      <td>62.15</td>\n",
       "    </tr>\n",
       "    <tr>\n",
       "      <th>12</th>\n",
       "      <td>United States of America</td>\n",
       "      <td>55.02</td>\n",
       "    </tr>\n",
       "    <tr>\n",
       "      <th>13</th>\n",
       "      <td>England</td>\n",
       "      <td>43.51</td>\n",
       "    </tr>\n",
       "    <tr>\n",
       "      <th>14</th>\n",
       "      <td>Canada</td>\n",
       "      <td>41.86</td>\n",
       "    </tr>\n",
       "  </tbody>\n",
       "</table>\n",
       "</div>"
      ],
      "text/plain": [
       "                country_code  average_cost_for_two\n",
       "0                  Indonesia             303000.00\n",
       "1                  Australia             138959.78\n",
       "2                  Sri Lanka               2579.38\n",
       "3                Philippines               1227.82\n",
       "4                      India                703.60\n",
       "5               South Africa                339.23\n",
       "6                      Qatar                174.00\n",
       "7       United Arab Emirates                153.72\n",
       "8                  Singapure                141.44\n",
       "9                     Brazil                138.81\n",
       "10                    Turkey                128.58\n",
       "11                New Zeland                 62.15\n",
       "12  United States of America                 55.02\n",
       "13                   England                 43.51\n",
       "14                    Canada                 41.86"
      ]
     },
     "execution_count": 39,
     "metadata": {},
     "output_type": "execute_result"
    }
   ],
   "source": [
    "(round (df1[[\"country_code\", \"average_cost_for_two\"]].groupby([\"country_code\"])\n",
    "                                                    .mean()\n",
    "                                                    .sort_values(\"average_cost_for_two\", ascending=False), 2)\n",
    "                                                    .reset_index())"
   ]
  },
  {
   "cell_type": "code",
   "execution_count": null,
   "id": "3914b726-93f1-491c-b5d1-20fb5f943d1c",
   "metadata": {},
   "outputs": [],
   "source": []
  },
  {
   "cell_type": "code",
   "execution_count": null,
   "id": "0dc52db7-1d2a-40a2-ab05-3beed856654d",
   "metadata": {},
   "outputs": [],
   "source": []
  },
  {
   "cell_type": "markdown",
   "id": "07ea1cd7-3294-43d2-8256-fec8f2da7671",
   "metadata": {},
   "source": [
    "## Cidade"
   ]
  },
  {
   "cell_type": "markdown",
   "id": "9e10898c-1f42-4be7-bd75-85369e13db51",
   "metadata": {},
   "source": [
    "1. Qual o nome da cidade que possui mais restaurantes registrados?"
   ]
  },
  {
   "cell_type": "code",
   "execution_count": 40,
   "id": "606b10e4-2e8c-466c-b7eb-85230a3b40dc",
   "metadata": {},
   "outputs": [
    {
     "data": {
      "text/plain": [
       "'Abu Dhabi'"
      ]
     },
     "execution_count": 40,
     "metadata": {},
     "output_type": "execute_result"
    }
   ],
   "source": [
    "(df1[[\"city\", \"restaurant_id\"]].groupby(\"city\")\n",
    "                               .count()\n",
    "                               .sort_values(\"restaurant_id\", ascending=False)\n",
    "                               .reset_index()).iloc[0,0]"
   ]
  },
  {
   "cell_type": "markdown",
   "id": "72b631c5-410f-4b6d-91da-7cb2fbecd11d",
   "metadata": {},
   "source": [
    "2. Qual o nome da cidade que possui mais restaurantes com nota média acima de 4?"
   ]
  },
  {
   "cell_type": "code",
   "execution_count": 41,
   "id": "9e184747-6fe9-4a11-8ed0-3709e9841fe5",
   "metadata": {},
   "outputs": [
    {
     "data": {
      "text/plain": [
       "'London'"
      ]
     },
     "execution_count": 41,
     "metadata": {},
     "output_type": "execute_result"
    }
   ],
   "source": [
    "(df1.loc[df1[\"aggregate_rating\"] >=4, [\"city\", \"restaurant_id\"]].groupby([\"city\"])\n",
    "                                                                .count()\n",
    "                                                                .sort_values(\"restaurant_id\", ascending=False)\n",
    "                                                                .reset_index()).iloc[0,0]"
   ]
  },
  {
   "cell_type": "markdown",
   "id": "a1effc72-1313-40e8-9656-9c4af15402ca",
   "metadata": {},
   "source": [
    "3. Qual o nome da cidade que possui mais restaurantes com nota média abaixo de 2.5?"
   ]
  },
  {
   "cell_type": "code",
   "execution_count": 42,
   "id": "29fe6118-e6bd-4a33-b0df-eecc268792b9",
   "metadata": {},
   "outputs": [
    {
     "data": {
      "text/plain": [
       "'Gangtok'"
      ]
     },
     "execution_count": 42,
     "metadata": {},
     "output_type": "execute_result"
    }
   ],
   "source": [
    "(df1.loc[df1[\"aggregate_rating\"] <=2.5, [\"city\", \"restaurant_id\"]].groupby([\"city\"])\n",
    "                                                                  .count()\n",
    "                                                                  .sort_values(\"restaurant_id\", ascending=False)\n",
    "                                                                  .reset_index()).iloc[0,0]"
   ]
  },
  {
   "cell_type": "markdown",
   "id": "46bf310d-19a7-49c3-8d22-f81466f3756a",
   "metadata": {},
   "source": [
    "4. Qual o nome da cidade que possui o maior valor médio de um prato para dois?"
   ]
  },
  {
   "cell_type": "code",
   "execution_count": 43,
   "id": "2a1736be-5b3d-475f-afa7-a13d725ce643",
   "metadata": {},
   "outputs": [
    {
     "data": {
      "text/plain": [
       "'Adelaide'"
      ]
     },
     "execution_count": 43,
     "metadata": {},
     "output_type": "execute_result"
    }
   ],
   "source": [
    "(df1[[\"city\", \"average_cost_for_two\"]].groupby([\"city\"])\n",
    "                                      .mean()\n",
    "                                      .sort_values(\"average_cost_for_two\", ascending=False)\n",
    "                                      .reset_index().iloc[0,0])"
   ]
  },
  {
   "cell_type": "markdown",
   "id": "d31bc412-f111-489a-817b-1c3cb1b76ef0",
   "metadata": {},
   "source": [
    "5. Qual o nome da cidade que possui a maior quantidade de tipos de culinária distintas?"
   ]
  },
  {
   "cell_type": "code",
   "execution_count": 44,
   "id": "3bf8199d-2847-476f-92c8-45d468af1595",
   "metadata": {},
   "outputs": [
    {
     "data": {
      "text/plain": [
       "'Birmingham'"
      ]
     },
     "execution_count": 44,
     "metadata": {},
     "output_type": "execute_result"
    }
   ],
   "source": [
    "(df1[[\"city\", \"cuisines\"]].groupby([\"city\"])\n",
    "                          .nunique()\n",
    "                          .sort_values(\"cuisines\", ascending=False)\n",
    "                          .reset_index().iloc[0,0])"
   ]
  },
  {
   "cell_type": "markdown",
   "id": "d3cb64f6-5317-475d-bdf8-83fcb467f850",
   "metadata": {},
   "source": [
    "6. Qual o nome da cidade que possui a maior quantidade de restaurantes que fazem reservas?"
   ]
  },
  {
   "cell_type": "code",
   "execution_count": 45,
   "id": "64e81e4d-c935-4483-bdb5-69507764e5aa",
   "metadata": {},
   "outputs": [
    {
     "data": {
      "text/plain": [
       "'Bangalore'"
      ]
     },
     "execution_count": 45,
     "metadata": {},
     "output_type": "execute_result"
    }
   ],
   "source": [
    "(df1.loc[df1[\"has_table_booking\"] == 1, [\"city\", \"restaurant_id\"]].groupby([\"city\"])\n",
    "                                                                  .count()\n",
    "                                                                  .sort_values(\"restaurant_id\", ascending=False)\n",
    "                                                                  .reset_index()).iloc[0,0]"
   ]
  },
  {
   "cell_type": "markdown",
   "id": "a9b283c6-b8fb-40a9-876f-f9c8ad4aba17",
   "metadata": {},
   "source": [
    "7. Qual o nome da cidade que possui a maior quantidade de restaurantes que fazem entregas?"
   ]
  },
  {
   "cell_type": "code",
   "execution_count": 46,
   "id": "bf7623d8-4241-43b0-aead-0f0992a9a5cd",
   "metadata": {},
   "outputs": [
    {
     "data": {
      "text/plain": [
       "'Vadodara'"
      ]
     },
     "execution_count": 46,
     "metadata": {},
     "output_type": "execute_result"
    }
   ],
   "source": [
    "(df1.loc[df1[\"is_delivering_now\"] == 1, [\"city\", \"restaurant_id\"]].groupby([\"city\"])\n",
    "                                                                  .count()\n",
    "                                                                  .sort_values(\"restaurant_id\", ascending=False)\n",
    "                                                                  .reset_index()).iloc[0,0]"
   ]
  },
  {
   "cell_type": "markdown",
   "id": "c07cf611-cbd7-46d4-a210-84306c2ba535",
   "metadata": {},
   "source": [
    "8. Qual o nome da cidade que possui a maior quantidade de restaurantes que aceitam pedidos online?"
   ]
  },
  {
   "cell_type": "code",
   "execution_count": 47,
   "id": "66d53931-5ee6-441e-b5c7-7541a3b87767",
   "metadata": {},
   "outputs": [
    {
     "data": {
      "text/plain": [
       "'Bhopal'"
      ]
     },
     "execution_count": 47,
     "metadata": {},
     "output_type": "execute_result"
    }
   ],
   "source": [
    "(df1.loc[df1[\"has_online_delivery\"] == 1, [\"city\", \"restaurant_id\"]].groupby([\"city\"])\n",
    "                                                                    .count()\n",
    "                                                                    .sort_values(\"restaurant_id\", ascending=False)\n",
    "                                                                    .reset_index()).iloc[0,0]"
   ]
  },
  {
   "cell_type": "code",
   "execution_count": null,
   "id": "cdadd0f3-8dd6-4a9d-ac7f-7d3531572991",
   "metadata": {},
   "outputs": [],
   "source": []
  },
  {
   "cell_type": "markdown",
   "id": "41b55b38-bfe7-4afa-af1c-77b5c633912d",
   "metadata": {},
   "source": [
    "\n",
    "\n",
    "## Restaurantes"
   ]
  },
  {
   "cell_type": "markdown",
   "id": "e7ad5dc9-af35-49a4-b990-bb3d3aa048f8",
   "metadata": {},
   "source": [
    "1. Qual o nome do restaurante que possui a maior quantidade de avaliações?"
   ]
  },
  {
   "cell_type": "code",
   "execution_count": 48,
   "id": "f00e4b0d-3c2a-4568-8419-b490862b78b3",
   "metadata": {},
   "outputs": [
    {
     "data": {
      "text/plain": [
       "'Bawarchi'"
      ]
     },
     "execution_count": 48,
     "metadata": {},
     "output_type": "execute_result"
    }
   ],
   "source": [
    "(df1[[\"restaurant_name\", \"votes\"]].groupby([\"restaurant_name\"])\n",
    "                                  .max()\n",
    "                                  .sort_values(\"votes\", ascending=False)\n",
    "                                  .reset_index()).iloc[0,0]"
   ]
  },
  {
   "cell_type": "markdown",
   "id": "9f31ad8b-9b5e-4ec8-91bc-fc7482daea70",
   "metadata": {},
   "source": [
    "2. Qual o nome do restaurante com a maior nota média?"
   ]
  },
  {
   "cell_type": "code",
   "execution_count": 49,
   "id": "ff85966b-7ca4-4990-b79a-f40fe4f93181",
   "metadata": {},
   "outputs": [
    {
     "data": {
      "text/plain": [
       "'Indian Grill Room'"
      ]
     },
     "execution_count": 49,
     "metadata": {},
     "output_type": "execute_result"
    }
   ],
   "source": [
    "(df1[[\"restaurant_name\", \"restaurant_id\", \"aggregate_rating\"]].groupby([\"restaurant_name\"])\n",
    "                                  .max()\n",
    "                                  .sort_values(by=[\"aggregate_rating\", \"restaurant_id\"], ascending=[False, True])\n",
    "                                  .reset_index()).iloc[0,0]"
   ]
  },
  {
   "cell_type": "markdown",
   "id": "2988486b-4797-418a-b72d-83e4d7dfbab4",
   "metadata": {},
   "source": [
    "3. Qual o nome do restaurante que possui o maior valor de uma prato para duas pessoas?"
   ]
  },
  {
   "cell_type": "code",
   "execution_count": 50,
   "id": "ce4425ff-3be9-42de-9fd5-1e237383b286",
   "metadata": {},
   "outputs": [
    {
     "data": {
      "text/plain": [
       "\"d'Arry's Verandah Restaurant\""
      ]
     },
     "execution_count": 50,
     "metadata": {},
     "output_type": "execute_result"
    }
   ],
   "source": [
    "(df1[[\"restaurant_name\", \"average_cost_for_two\"]].groupby([\"restaurant_name\"])\n",
    "                                  .max()\n",
    "                                  .sort_values(\"average_cost_for_two\", ascending=False)\n",
    "                                  .reset_index()).iloc[0,0]"
   ]
  },
  {
   "cell_type": "markdown",
   "id": "855ed0b7-1761-4aa0-9952-e514d867b23f",
   "metadata": {},
   "source": [
    "4. Qual o nome do restaurante de tipo de culinária brasileira que possui a menor média de avaliação?"
   ]
  },
  {
   "cell_type": "code",
   "execution_count": 51,
   "id": "e40f834d-05a1-461a-83bd-f3df2be83ab0",
   "metadata": {},
   "outputs": [
    {
     "data": {
      "text/plain": [
       "'Loca Como tu Madre'"
      ]
     },
     "execution_count": 51,
     "metadata": {},
     "output_type": "execute_result"
    }
   ],
   "source": [
    "(df1.loc[df1[\"cuisines\"] == \"Brazilian\", [\"restaurant_name\", \"aggregate_rating\", \"restaurant_id\"]]\n",
    "                                         .groupby([\"restaurant_name\"])\n",
    "                                         .min()\n",
    "                                         .sort_values(by=[\"aggregate_rating\", \"restaurant_id\"], ascending=[True, True])\n",
    "                                         .reset_index()).iloc[0,0]"
   ]
  },
  {
   "cell_type": "markdown",
   "id": "3c75bb73-f0b1-4e4b-a199-fdbf7956645d",
   "metadata": {},
   "source": [
    "5. Qual o nome do restaurante de tipo de culinária brasileira, e que é do Brasil, que possui a maior média de avaliação?"
   ]
  },
  {
   "cell_type": "code",
   "execution_count": 52,
   "id": "a6ba17af-1084-49d0-bbb9-e69c9f7a5fa8",
   "metadata": {},
   "outputs": [
    {
     "data": {
      "text/plain": [
       "'Braseiro da Gávea'"
      ]
     },
     "execution_count": 52,
     "metadata": {},
     "output_type": "execute_result"
    }
   ],
   "source": [
    "tipo_culinaria = (df1[\"cuisines\"] == \"Brazilian\") & (df1[\"country_code\"] == \"Brazil\")\n",
    "\n",
    "(df1.loc[tipo_culinaria , [\"restaurant_name\", \"aggregate_rating\", \"restaurant_id\"]]\n",
    "                                         .groupby([\"restaurant_name\"])\n",
    "                                         .max()\n",
    "                                         .sort_values(by=[\"aggregate_rating\", \"restaurant_id\"], ascending=[False, True])\n",
    "                                         .reset_index()).iloc[0,0]"
   ]
  },
  {
   "cell_type": "markdown",
   "id": "1dab9948-0349-4c66-9d84-d8fe3edfe8e9",
   "metadata": {},
   "source": [
    "6. Os restaurantes que aceitam pedido online são também, na média, os restaurantes que mais possuem avaliações registradas?"
   ]
  },
  {
   "cell_type": "code",
   "execution_count": 53,
   "id": "ff7ff739-d7b1-47d6-8196-da7b6fbd6a5b",
   "metadata": {},
   "outputs": [
    {
     "data": {
      "text/html": [
       "<div>\n",
       "<style scoped>\n",
       "    .dataframe tbody tr th:only-of-type {\n",
       "        vertical-align: middle;\n",
       "    }\n",
       "\n",
       "    .dataframe tbody tr th {\n",
       "        vertical-align: top;\n",
       "    }\n",
       "\n",
       "    .dataframe thead th {\n",
       "        text-align: right;\n",
       "    }\n",
       "</style>\n",
       "<table border=\"1\" class=\"dataframe\">\n",
       "  <thead>\n",
       "    <tr style=\"text-align: right;\">\n",
       "      <th></th>\n",
       "      <th>has_online_delivery</th>\n",
       "      <th>votes</th>\n",
       "    </tr>\n",
       "  </thead>\n",
       "  <tbody>\n",
       "    <tr>\n",
       "      <th>0</th>\n",
       "      <td>1</td>\n",
       "      <td>838.821664</td>\n",
       "    </tr>\n",
       "    <tr>\n",
       "      <th>1</th>\n",
       "      <td>0</td>\n",
       "      <td>478.284227</td>\n",
       "    </tr>\n",
       "  </tbody>\n",
       "</table>\n",
       "</div>"
      ],
      "text/plain": [
       "   has_online_delivery       votes\n",
       "0                    1  838.821664\n",
       "1                    0  478.284227"
      ]
     },
     "execution_count": 53,
     "metadata": {},
     "output_type": "execute_result"
    }
   ],
   "source": [
    "(df1[[\"has_online_delivery\", \"votes\"]].groupby([\"has_online_delivery\"])\n",
    "                                      .mean()\n",
    "                                      .sort_values(\"votes\", ascending=False)\n",
    "                                      .reset_index())"
   ]
  },
  {
   "cell_type": "markdown",
   "id": "2171ec37-5953-4740-bd67-51ab3615d493",
   "metadata": {},
   "source": [
    "7. Os restaurantes que fazem reservas são também, na média, os restaurantes que possuem o maior valor médio de um prato para duas pessoas?"
   ]
  },
  {
   "cell_type": "code",
   "execution_count": 54,
   "id": "789c942a-4ba8-4e11-8ac0-5280b058dbf1",
   "metadata": {},
   "outputs": [
    {
     "data": {
      "text/html": [
       "<div>\n",
       "<style scoped>\n",
       "    .dataframe tbody tr th:only-of-type {\n",
       "        vertical-align: middle;\n",
       "    }\n",
       "\n",
       "    .dataframe tbody tr th {\n",
       "        vertical-align: top;\n",
       "    }\n",
       "\n",
       "    .dataframe thead th {\n",
       "        text-align: right;\n",
       "    }\n",
       "</style>\n",
       "<table border=\"1\" class=\"dataframe\">\n",
       "  <thead>\n",
       "    <tr style=\"text-align: right;\">\n",
       "      <th></th>\n",
       "      <th>has_table_booking</th>\n",
       "      <th>average_cost_for_two</th>\n",
       "    </tr>\n",
       "  </thead>\n",
       "  <tbody>\n",
       "    <tr>\n",
       "      <th>0</th>\n",
       "      <td>1</td>\n",
       "      <td>69998.423810</td>\n",
       "    </tr>\n",
       "    <tr>\n",
       "      <th>1</th>\n",
       "      <td>0</td>\n",
       "      <td>3482.264949</td>\n",
       "    </tr>\n",
       "  </tbody>\n",
       "</table>\n",
       "</div>"
      ],
      "text/plain": [
       "   has_table_booking  average_cost_for_two\n",
       "0                  1          69998.423810\n",
       "1                  0           3482.264949"
      ]
     },
     "execution_count": 54,
     "metadata": {},
     "output_type": "execute_result"
    }
   ],
   "source": [
    "(df1[[\"has_table_booking\", \"average_cost_for_two\"]].groupby([\"has_table_booking\"])\n",
    "                                                   .mean()\n",
    "                                                   .sort_values(\"average_cost_for_two\", ascending=False)\n",
    "                                                   .reset_index())"
   ]
  },
  {
   "cell_type": "markdown",
   "id": "22e92772-334a-4a58-ba5c-0d39b11fad4f",
   "metadata": {},
   "source": [
    "8. Os restaurantes do tipo de culinária japonesa dos Estados Unidos da América possuem um valor médio de prato para duas pessoas maior que as churrascarias americanas (BBQ)?"
   ]
  },
  {
   "cell_type": "code",
   "execution_count": 55,
   "id": "ca7f978b-c8c9-4f06-9044-1b7e9ff0009c",
   "metadata": {},
   "outputs": [
    {
     "data": {
      "text/html": [
       "<div>\n",
       "<style scoped>\n",
       "    .dataframe tbody tr th:only-of-type {\n",
       "        vertical-align: middle;\n",
       "    }\n",
       "\n",
       "    .dataframe tbody tr th {\n",
       "        vertical-align: top;\n",
       "    }\n",
       "\n",
       "    .dataframe thead th {\n",
       "        text-align: right;\n",
       "    }\n",
       "</style>\n",
       "<table border=\"1\" class=\"dataframe\">\n",
       "  <thead>\n",
       "    <tr style=\"text-align: right;\">\n",
       "      <th></th>\n",
       "      <th>cuisines</th>\n",
       "      <th>average_cost_for_two</th>\n",
       "    </tr>\n",
       "  </thead>\n",
       "  <tbody>\n",
       "    <tr>\n",
       "      <th>0</th>\n",
       "      <td>Japanese</td>\n",
       "      <td>56.406250</td>\n",
       "    </tr>\n",
       "    <tr>\n",
       "      <th>1</th>\n",
       "      <td>BBQ</td>\n",
       "      <td>39.642857</td>\n",
       "    </tr>\n",
       "  </tbody>\n",
       "</table>\n",
       "</div>"
      ],
      "text/plain": [
       "   cuisines  average_cost_for_two\n",
       "0  Japanese             56.406250\n",
       "1       BBQ             39.642857"
      ]
     },
     "execution_count": 55,
     "metadata": {},
     "output_type": "execute_result"
    }
   ],
   "source": [
    "tipo_culinaria = (df1[\"country_code\"] == \"United States of America\") & ((df1[\"cuisines\"] == \"BBQ\") | (df1[\"cuisines\"] == \"Japanese\"))\n",
    "\n",
    "(df1.loc[tipo_culinaria, [\"average_cost_for_two\", \"cuisines\"]].groupby([\"cuisines\"]).mean().sort_values(\"average_cost_for_two\", ascending=False).reset_index())"
   ]
  },
  {
   "cell_type": "code",
   "execution_count": null,
   "id": "8d2167ae-9b33-4fdd-876b-a5b43cae9b71",
   "metadata": {},
   "outputs": [],
   "source": []
  },
  {
   "cell_type": "code",
   "execution_count": null,
   "id": "a28bd6e7-ebe6-4738-8aa4-1d55691a3a10",
   "metadata": {},
   "outputs": [],
   "source": []
  },
  {
   "cell_type": "markdown",
   "id": "403f8471-6a00-476d-8c8a-bd7fba6a8956",
   "metadata": {},
   "source": [
    "## Tipos de Culinária"
   ]
  },
  {
   "cell_type": "markdown",
   "id": "2e5f02cc-10d0-4f08-8d2f-b5c1c483cd82",
   "metadata": {},
   "source": [
    "1. Dos restaurantes que possuem o tipo de culinária italiana, qual o nome do restaurante com a maior média de avaliação?"
   ]
  },
  {
   "cell_type": "code",
   "execution_count": 56,
   "id": "e2dec0f6-1027-44f6-ad23-232e59f66e9b",
   "metadata": {},
   "outputs": [
    {
     "data": {
      "text/plain": [
       "'Cafe Del Sol Classico'"
      ]
     },
     "execution_count": 56,
     "metadata": {},
     "output_type": "execute_result"
    }
   ],
   "source": [
    "(df1.loc[df1[\"cuisines\"] == \"Italian\", [\"restaurant_name\", \"restaurant_id\", \"aggregate_rating\"]]\n",
    "                                       .groupby([\"restaurant_name\"])\n",
    "                                       .max()\n",
    "                                       .sort_values(by=[\"aggregate_rating\", \"restaurant_id\"], ascending=[False, True])\n",
    "                                       .reset_index()).iloc[0,0]"
   ]
  },
  {
   "cell_type": "markdown",
   "id": "e3c1e0fb-cb11-4b25-91b2-7fbacd3856df",
   "metadata": {},
   "source": [
    "2. Dos restaurantes que possuem o tipo de culinária italiana, qual o nome do restaurante com a menor média de avaliação?"
   ]
  },
  {
   "cell_type": "code",
   "execution_count": 57,
   "id": "1b605694-8e5a-4800-8283-427e8d98751c",
   "metadata": {},
   "outputs": [
    {
     "data": {
      "text/plain": [
       "'Avenida Paulista'"
      ]
     },
     "execution_count": 57,
     "metadata": {},
     "output_type": "execute_result"
    }
   ],
   "source": [
    "(df1.loc[df1[\"cuisines\"] == \"Italian\", [\"restaurant_name\", \"restaurant_id\", \"aggregate_rating\"]]\n",
    "                                       .groupby([\"restaurant_name\"])\n",
    "                                       .min()\n",
    "                                       .sort_values(by=[\"aggregate_rating\", \"restaurant_id\"], ascending=[True, True])\n",
    "                                       .reset_index()).iloc[0,0]"
   ]
  },
  {
   "cell_type": "markdown",
   "id": "2121a52c-8f2b-4f4e-b2e8-b6937224098c",
   "metadata": {},
   "source": [
    "3. Dos restaurantes que possuem o tipo de culinária americana, qual o nome do restaurante com a maior média de avaliação?"
   ]
  },
  {
   "cell_type": "code",
   "execution_count": 58,
   "id": "ea160d7f-c0c7-4d14-996e-3ea3d2f133e1",
   "metadata": {},
   "outputs": [
    {
     "data": {
      "text/plain": [
       "'Burger & Lobster'"
      ]
     },
     "execution_count": 58,
     "metadata": {},
     "output_type": "execute_result"
    }
   ],
   "source": [
    "(df1.loc[df1[\"cuisines\"] == \"American\", [\"restaurant_name\", \"restaurant_id\", \"aggregate_rating\"]]\n",
    "                                       .groupby([\"restaurant_name\"])\n",
    "                                       .max()\n",
    "                                       .sort_values(by=[\"aggregate_rating\", \"restaurant_id\"], ascending=[False, True])\n",
    "                                       .reset_index()).iloc[0,0]"
   ]
  },
  {
   "cell_type": "markdown",
   "id": "556d94f7-125d-45d1-aa74-e30c54b1ccf3",
   "metadata": {},
   "source": [
    "4. Dos restaurantes que possuem o tipo de culinária americana, qual o nome do restaurante com a menor média de avaliação?"
   ]
  },
  {
   "cell_type": "code",
   "execution_count": 59,
   "id": "e417481e-0fcd-4bee-b05d-50f32d38b4ea",
   "metadata": {},
   "outputs": [
    {
     "data": {
      "text/plain": [
       "'Alston Bar & Beef'"
      ]
     },
     "execution_count": 59,
     "metadata": {},
     "output_type": "execute_result"
    }
   ],
   "source": [
    "(df1.loc[df1[\"cuisines\"] == \"American\", [\"restaurant_name\", \"restaurant_id\", \"aggregate_rating\"]]\n",
    "                                       .groupby([\"restaurant_name\"])\n",
    "                                       .min()\n",
    "                                       .sort_values(by=[\"aggregate_rating\", \"restaurant_id\"], ascending=[True, True])\n",
    "                                       .reset_index()).iloc[0,0]"
   ]
  },
  {
   "cell_type": "markdown",
   "id": "52ed97ec-8179-49d9-8581-11b51c1f0f9c",
   "metadata": {},
   "source": [
    "5. Dos restaurantes que possuem o tipo de culinária árabe, qual o nome do restaurante com a maior média de avaliação?"
   ]
  },
  {
   "cell_type": "code",
   "execution_count": 60,
   "id": "f5b81159-dfad-4c0b-a3b9-5543b7162ad0",
   "metadata": {},
   "outputs": [
    {
     "data": {
      "text/plain": [
       "'Mandi@36'"
      ]
     },
     "execution_count": 60,
     "metadata": {},
     "output_type": "execute_result"
    }
   ],
   "source": [
    "(df1.loc[df1[\"cuisines\"] == \"Arabian\", [\"restaurant_name\", \"restaurant_id\", \"aggregate_rating\"]]\n",
    "                                      .groupby([\"restaurant_name\"])\n",
    "                                      .max()\n",
    "                                      .sort_values(by=[\"aggregate_rating\", \"restaurant_id\"], ascending=[False, True])\n",
    "                                      .reset_index()).iloc[0,0]"
   ]
  },
  {
   "cell_type": "markdown",
   "id": "a8802ddb-6f99-4df8-8e34-445067e2e70b",
   "metadata": {},
   "source": [
    "6. Dos restaurantes que possuem o tipo de culinária árabe, qual o nome do restaurante com a menor média de avaliação?"
   ]
  },
  {
   "cell_type": "code",
   "execution_count": 61,
   "id": "013c071d-53f5-4a73-bfbd-3311769658d6",
   "metadata": {},
   "outputs": [
    {
     "data": {
      "text/plain": [
       "'Raful'"
      ]
     },
     "execution_count": 61,
     "metadata": {},
     "output_type": "execute_result"
    }
   ],
   "source": [
    "(df1.loc[df1[\"cuisines\"] == \"Arabian\", [\"restaurant_name\", \"restaurant_id\", \"aggregate_rating\"]]\n",
    "                                      .groupby([\"restaurant_name\"])\n",
    "                                      .min()\n",
    "                                      .sort_values(by=[\"aggregate_rating\", \"restaurant_id\"], ascending=[True, True])\n",
    "                                      .reset_index()).iloc[0,0]"
   ]
  },
  {
   "cell_type": "markdown",
   "id": "eb418b01-d8f7-4602-81a7-f68134d34dda",
   "metadata": {},
   "source": [
    "7. Dos restaurantes que possuem o tipo de culinária japonesa, qual o nome do restaurante com a maior média de avaliação?"
   ]
  },
  {
   "cell_type": "code",
   "execution_count": 62,
   "id": "9ea15f9b-921e-4ff1-a6b7-d96dfed5bf25",
   "metadata": {},
   "outputs": [
    {
     "data": {
      "text/plain": [
       "'Sushi Samba'"
      ]
     },
     "execution_count": 62,
     "metadata": {},
     "output_type": "execute_result"
    }
   ],
   "source": [
    "(df1.loc[df1[\"cuisines\"] == \"Japanese\", [\"restaurant_name\", \"restaurant_id\", \"aggregate_rating\"]]\n",
    "                                        .groupby([\"restaurant_name\"])\n",
    "                                        .max()\n",
    "                                        .sort_values(by=[\"aggregate_rating\", \"restaurant_id\"], ascending=[False, True])\n",
    "                                        .reset_index()).iloc[0,0]"
   ]
  },
  {
   "cell_type": "markdown",
   "id": "af16eea5-f945-4480-9419-d7943950d35b",
   "metadata": {},
   "source": [
    "8. Dos restaurantes que possuem o tipo de culinária japonesa, qual o nome do restaurante com a menor média de avaliação?"
   ]
  },
  {
   "cell_type": "code",
   "execution_count": 63,
   "id": "70528432-07a4-4c31-9d40-95713751bc48",
   "metadata": {},
   "outputs": [
    {
     "data": {
      "text/plain": [
       "'Banzai Sushi'"
      ]
     },
     "execution_count": 63,
     "metadata": {},
     "output_type": "execute_result"
    }
   ],
   "source": [
    "(df1.loc[df1[\"cuisines\"] == \"Japanese\", [\"restaurant_name\", \"restaurant_id\", \"aggregate_rating\"]]\n",
    "                                        .groupby([\"restaurant_name\"])\n",
    "                                        .min()\n",
    "                                        .sort_values(by=[\"aggregate_rating\", \"restaurant_id\"], ascending=[True, True])\n",
    "                                        .reset_index()).iloc[0,0]"
   ]
  },
  {
   "cell_type": "markdown",
   "id": "15c7505e-8983-4702-a989-1aa34eb92a56",
   "metadata": {},
   "source": [
    "9. Dos restaurantes que possuem o tipo de culinária caseira, qual o nome do restaurante com a maior média de avaliação?"
   ]
  },
  {
   "cell_type": "code",
   "execution_count": 64,
   "id": "6477a2a7-971e-4436-b8d7-2988c1cdaa96",
   "metadata": {},
   "outputs": [
    {
     "data": {
      "text/plain": [
       "'Kanaat Lokantası'"
      ]
     },
     "execution_count": 64,
     "metadata": {},
     "output_type": "execute_result"
    }
   ],
   "source": [
    "(df1.loc[df1[\"cuisines\"] == \"Home-made\", [\"restaurant_name\", \"restaurant_id\", \"aggregate_rating\"]]\n",
    "                                         .groupby([\"restaurant_name\"])\n",
    "                                         .max()\n",
    "                                         .sort_values(by=[\"aggregate_rating\", \"restaurant_id\"], ascending=[False, True])\n",
    "                                         .reset_index()).iloc[0,0]"
   ]
  },
  {
   "cell_type": "markdown",
   "id": "51accc7a-7c8a-4942-9c91-e7b10ab8bade",
   "metadata": {},
   "source": [
    "10. Dos restaurantes que possuem o tipo de culinária caseira, qual o nome do restaurante com a menor média de avaliação?"
   ]
  },
  {
   "cell_type": "code",
   "execution_count": 65,
   "id": "d9b993b5-4988-4573-baf1-dab539881695",
   "metadata": {},
   "outputs": [
    {
     "data": {
      "text/plain": [
       "'GurMekan Restaurant'"
      ]
     },
     "execution_count": 65,
     "metadata": {},
     "output_type": "execute_result"
    }
   ],
   "source": [
    "(df1.loc[df1[\"cuisines\"] == \"Home-made\", [\"restaurant_name\", \"restaurant_id\", \"aggregate_rating\"]]\n",
    "                                         .groupby([\"restaurant_name\"])\n",
    "                                         .min()\n",
    "                                         .sort_values(by=[\"aggregate_rating\", \"restaurant_id\"], ascending=[True, True])\n",
    "                                         .reset_index()).iloc[0,0]"
   ]
  },
  {
   "cell_type": "markdown",
   "id": "2e97a74e-db27-4c83-85ce-2d83a31dd0f3",
   "metadata": {},
   "source": [
    "11. Qual o tipo de culinária que possui o maior valor médio de um prato para duas pessoas?"
   ]
  },
  {
   "cell_type": "code",
   "execution_count": 66,
   "id": "1692eab4-91e9-49b9-9078-f6be1eb0bab3",
   "metadata": {},
   "outputs": [
    {
     "data": {
      "text/html": [
       "<div>\n",
       "<style scoped>\n",
       "    .dataframe tbody tr th:only-of-type {\n",
       "        vertical-align: middle;\n",
       "    }\n",
       "\n",
       "    .dataframe tbody tr th {\n",
       "        vertical-align: top;\n",
       "    }\n",
       "\n",
       "    .dataframe thead th {\n",
       "        text-align: right;\n",
       "    }\n",
       "</style>\n",
       "<table border=\"1\" class=\"dataframe\">\n",
       "  <thead>\n",
       "    <tr style=\"text-align: right;\">\n",
       "      <th></th>\n",
       "      <th>cuisines</th>\n",
       "      <th>average_cost_for_two</th>\n",
       "    </tr>\n",
       "  </thead>\n",
       "  <tbody>\n",
       "    <tr>\n",
       "      <th>0</th>\n",
       "      <td>Modern Australian</td>\n",
       "      <td>25000017</td>\n",
       "    </tr>\n",
       "  </tbody>\n",
       "</table>\n",
       "</div>"
      ],
      "text/plain": [
       "            cuisines  average_cost_for_two\n",
       "0  Modern Australian              25000017"
      ]
     },
     "execution_count": 66,
     "metadata": {},
     "output_type": "execute_result"
    }
   ],
   "source": [
    "(df1[['cuisines', 'average_cost_for_two']].groupby(['cuisines'])\n",
    "                                         .max()\n",
    "                                         .sort_values('average_cost_for_two', ascending=False)\n",
    "                                         .reset_index()).head(1)"
   ]
  },
  {
   "cell_type": "markdown",
   "id": "13ad50ed-65d5-4799-b0b1-2a76db792f6c",
   "metadata": {},
   "source": [
    "12. Qual o tipo de culinária que possui a maior nota média?"
   ]
  },
  {
   "cell_type": "code",
   "execution_count": 67,
   "id": "b9d4ad48-ab45-40ff-893e-4cccc54b9d4f",
   "metadata": {},
   "outputs": [
    {
     "data": {
      "text/plain": [
       "'Patisserie'"
      ]
     },
     "execution_count": 67,
     "metadata": {},
     "output_type": "execute_result"
    }
   ],
   "source": [
    "(df1[['cuisines', 'restaurant_id', 'aggregate_rating']].groupby(['cuisines'])\n",
    ".max()\n",
    ".sort_values(by=['aggregate_rating', 'restaurant_id'], ascending=[False, True])\n",
    ".reset_index()).iloc[0,0]"
   ]
  },
  {
   "cell_type": "markdown",
   "id": "c74bb301-3031-4af9-bb85-82dd3db6d78f",
   "metadata": {},
   "source": [
    "13. Qual o tipo de culinária que possui mais restaurantes que aceitam pedidos online e fazem entregas?"
   ]
  },
  {
   "cell_type": "code",
   "execution_count": 68,
   "id": "b109ab92-d394-4778-80fa-cd75b702c61f",
   "metadata": {},
   "outputs": [
    {
     "data": {
      "text/html": [
       "<div>\n",
       "<style scoped>\n",
       "    .dataframe tbody tr th:only-of-type {\n",
       "        vertical-align: middle;\n",
       "    }\n",
       "\n",
       "    .dataframe tbody tr th {\n",
       "        vertical-align: top;\n",
       "    }\n",
       "\n",
       "    .dataframe thead th {\n",
       "        text-align: right;\n",
       "    }\n",
       "</style>\n",
       "<table border=\"1\" class=\"dataframe\">\n",
       "  <thead>\n",
       "    <tr style=\"text-align: right;\">\n",
       "      <th></th>\n",
       "      <th>cuisines</th>\n",
       "      <th>restaurant_id</th>\n",
       "    </tr>\n",
       "  </thead>\n",
       "  <tbody>\n",
       "    <tr>\n",
       "      <th>0</th>\n",
       "      <td>North Indian</td>\n",
       "      <td>317</td>\n",
       "    </tr>\n",
       "  </tbody>\n",
       "</table>\n",
       "</div>"
      ],
      "text/plain": [
       "       cuisines  restaurant_id\n",
       "0  North Indian            317"
      ]
     },
     "execution_count": 68,
     "metadata": {},
     "output_type": "execute_result"
    }
   ],
   "source": [
    "pedidos_online_entrega = (df1['has_online_delivery'] == 1) & (df1['is_delivering_now'] == 1)\n",
    "\n",
    "(df1.loc[pedidos_online_entrega, ['cuisines', 'restaurant_id']].groupby(['cuisines'])\n",
    "                                                              .count()\n",
    "                                                              .sort_values('restaurant_id', ascending=False)\n",
    "                                                              .reset_index()).head(1)"
   ]
  },
  {
   "cell_type": "code",
   "execution_count": null,
   "id": "c9e95cc8-d18c-4605-8793-d5c7c5f1b32c",
   "metadata": {},
   "outputs": [],
   "source": []
  },
  {
   "cell_type": "code",
   "execution_count": null,
   "id": "7cbfd4aa-d8e1-4c50-8217-94a1f0ecd4de",
   "metadata": {},
   "outputs": [],
   "source": []
  },
  {
   "cell_type": "markdown",
   "id": "582d9261-dd21-43a3-8e80-561a1dd29aa6",
   "metadata": {},
   "source": [
    "## Perguntas Streamlit"
   ]
  },
  {
   "cell_type": "markdown",
   "id": "8a972d3d-d46a-4ad3-9ed5-112a81ddac7c",
   "metadata": {},
   "source": [
    "### Visão País"
   ]
  },
  {
   "cell_type": "markdown",
   "id": "d3bbc822-e0f2-4acb-ab80-a7aef1a2ee17",
   "metadata": {},
   "source": [
    "1 - Quantidade de restaurantes registrados por país"
   ]
  },
  {
   "cell_type": "code",
   "execution_count": 69,
   "id": "bb71c64d-9193-43bb-9c13-1c388bffba4b",
   "metadata": {},
   "outputs": [
    {
     "data": {
      "text/html": [
       "<div>\n",
       "<style scoped>\n",
       "    .dataframe tbody tr th:only-of-type {\n",
       "        vertical-align: middle;\n",
       "    }\n",
       "\n",
       "    .dataframe tbody tr th {\n",
       "        vertical-align: top;\n",
       "    }\n",
       "\n",
       "    .dataframe thead th {\n",
       "        text-align: right;\n",
       "    }\n",
       "</style>\n",
       "<table border=\"1\" class=\"dataframe\">\n",
       "  <thead>\n",
       "    <tr style=\"text-align: right;\">\n",
       "      <th></th>\n",
       "      <th>country_code</th>\n",
       "      <th>restaurant_id</th>\n",
       "    </tr>\n",
       "  </thead>\n",
       "  <tbody>\n",
       "    <tr>\n",
       "      <th>0</th>\n",
       "      <td>India</td>\n",
       "      <td>3120</td>\n",
       "    </tr>\n",
       "    <tr>\n",
       "      <th>1</th>\n",
       "      <td>United States of America</td>\n",
       "      <td>1378</td>\n",
       "    </tr>\n",
       "    <tr>\n",
       "      <th>2</th>\n",
       "      <td>England</td>\n",
       "      <td>400</td>\n",
       "    </tr>\n",
       "    <tr>\n",
       "      <th>3</th>\n",
       "      <td>South Africa</td>\n",
       "      <td>346</td>\n",
       "    </tr>\n",
       "    <tr>\n",
       "      <th>4</th>\n",
       "      <td>United Arab Emirates</td>\n",
       "      <td>300</td>\n",
       "    </tr>\n",
       "    <tr>\n",
       "      <th>5</th>\n",
       "      <td>Brazil</td>\n",
       "      <td>240</td>\n",
       "    </tr>\n",
       "    <tr>\n",
       "      <th>6</th>\n",
       "      <td>New Zeland</td>\n",
       "      <td>239</td>\n",
       "    </tr>\n",
       "    <tr>\n",
       "      <th>7</th>\n",
       "      <td>Australia</td>\n",
       "      <td>180</td>\n",
       "    </tr>\n",
       "    <tr>\n",
       "      <th>8</th>\n",
       "      <td>Canada</td>\n",
       "      <td>180</td>\n",
       "    </tr>\n",
       "    <tr>\n",
       "      <th>9</th>\n",
       "      <td>Turkey</td>\n",
       "      <td>159</td>\n",
       "    </tr>\n",
       "    <tr>\n",
       "      <th>10</th>\n",
       "      <td>Indonesia</td>\n",
       "      <td>80</td>\n",
       "    </tr>\n",
       "    <tr>\n",
       "      <th>11</th>\n",
       "      <td>Philippines</td>\n",
       "      <td>80</td>\n",
       "    </tr>\n",
       "    <tr>\n",
       "      <th>12</th>\n",
       "      <td>Qatar</td>\n",
       "      <td>80</td>\n",
       "    </tr>\n",
       "    <tr>\n",
       "      <th>13</th>\n",
       "      <td>Singapure</td>\n",
       "      <td>80</td>\n",
       "    </tr>\n",
       "    <tr>\n",
       "      <th>14</th>\n",
       "      <td>Sri Lanka</td>\n",
       "      <td>80</td>\n",
       "    </tr>\n",
       "  </tbody>\n",
       "</table>\n",
       "</div>"
      ],
      "text/plain": [
       "                country_code  restaurant_id\n",
       "0                      India           3120\n",
       "1   United States of America           1378\n",
       "2                    England            400\n",
       "3               South Africa            346\n",
       "4       United Arab Emirates            300\n",
       "5                     Brazil            240\n",
       "6                 New Zeland            239\n",
       "7                  Australia            180\n",
       "8                     Canada            180\n",
       "9                     Turkey            159\n",
       "10                 Indonesia             80\n",
       "11               Philippines             80\n",
       "12                     Qatar             80\n",
       "13                 Singapure             80\n",
       "14                 Sri Lanka             80"
      ]
     },
     "execution_count": 69,
     "metadata": {},
     "output_type": "execute_result"
    }
   ],
   "source": [
    "(df1[[\"restaurant_id\", \"country_code\"]]\n",
    " .groupby(\"country_code\")\n",
    " .nunique()\n",
    " .sort_values(\"restaurant_id\", ascending=False)\n",
    " .reset_index()\n",
    ")"
   ]
  },
  {
   "cell_type": "markdown",
   "id": "1a5ebd0a-fdea-40e7-9039-1c5da1afda1c",
   "metadata": {},
   "source": [
    "2 - Quantidade de cidades registradas por país"
   ]
  },
  {
   "cell_type": "code",
   "execution_count": 70,
   "id": "41c8db08-301c-4a58-92f1-ec9918adb05e",
   "metadata": {},
   "outputs": [
    {
     "data": {
      "text/html": [
       "<div>\n",
       "<style scoped>\n",
       "    .dataframe tbody tr th:only-of-type {\n",
       "        vertical-align: middle;\n",
       "    }\n",
       "\n",
       "    .dataframe tbody tr th {\n",
       "        vertical-align: top;\n",
       "    }\n",
       "\n",
       "    .dataframe thead th {\n",
       "        text-align: right;\n",
       "    }\n",
       "</style>\n",
       "<table border=\"1\" class=\"dataframe\">\n",
       "  <thead>\n",
       "    <tr style=\"text-align: right;\">\n",
       "      <th></th>\n",
       "      <th>country_code</th>\n",
       "      <th>city</th>\n",
       "    </tr>\n",
       "  </thead>\n",
       "  <tbody>\n",
       "    <tr>\n",
       "      <th>0</th>\n",
       "      <td>India</td>\n",
       "      <td>49</td>\n",
       "    </tr>\n",
       "    <tr>\n",
       "      <th>1</th>\n",
       "      <td>United States of America</td>\n",
       "      <td>22</td>\n",
       "    </tr>\n",
       "    <tr>\n",
       "      <th>2</th>\n",
       "      <td>Philippines</td>\n",
       "      <td>12</td>\n",
       "    </tr>\n",
       "    <tr>\n",
       "      <th>3</th>\n",
       "      <td>South Africa</td>\n",
       "      <td>12</td>\n",
       "    </tr>\n",
       "    <tr>\n",
       "      <th>4</th>\n",
       "      <td>England</td>\n",
       "      <td>5</td>\n",
       "    </tr>\n",
       "    <tr>\n",
       "      <th>5</th>\n",
       "      <td>New Zeland</td>\n",
       "      <td>4</td>\n",
       "    </tr>\n",
       "    <tr>\n",
       "      <th>6</th>\n",
       "      <td>United Arab Emirates</td>\n",
       "      <td>4</td>\n",
       "    </tr>\n",
       "    <tr>\n",
       "      <th>7</th>\n",
       "      <td>Australia</td>\n",
       "      <td>3</td>\n",
       "    </tr>\n",
       "    <tr>\n",
       "      <th>8</th>\n",
       "      <td>Brazil</td>\n",
       "      <td>3</td>\n",
       "    </tr>\n",
       "    <tr>\n",
       "      <th>9</th>\n",
       "      <td>Canada</td>\n",
       "      <td>3</td>\n",
       "    </tr>\n",
       "    <tr>\n",
       "      <th>10</th>\n",
       "      <td>Indonesia</td>\n",
       "      <td>3</td>\n",
       "    </tr>\n",
       "    <tr>\n",
       "      <th>11</th>\n",
       "      <td>Turkey</td>\n",
       "      <td>2</td>\n",
       "    </tr>\n",
       "    <tr>\n",
       "      <th>12</th>\n",
       "      <td>Qatar</td>\n",
       "      <td>1</td>\n",
       "    </tr>\n",
       "    <tr>\n",
       "      <th>13</th>\n",
       "      <td>Singapure</td>\n",
       "      <td>1</td>\n",
       "    </tr>\n",
       "    <tr>\n",
       "      <th>14</th>\n",
       "      <td>Sri Lanka</td>\n",
       "      <td>1</td>\n",
       "    </tr>\n",
       "  </tbody>\n",
       "</table>\n",
       "</div>"
      ],
      "text/plain": [
       "                country_code  city\n",
       "0                      India    49\n",
       "1   United States of America    22\n",
       "2                Philippines    12\n",
       "3               South Africa    12\n",
       "4                    England     5\n",
       "5                 New Zeland     4\n",
       "6       United Arab Emirates     4\n",
       "7                  Australia     3\n",
       "8                     Brazil     3\n",
       "9                     Canada     3\n",
       "10                 Indonesia     3\n",
       "11                    Turkey     2\n",
       "12                     Qatar     1\n",
       "13                 Singapure     1\n",
       "14                 Sri Lanka     1"
      ]
     },
     "execution_count": 70,
     "metadata": {},
     "output_type": "execute_result"
    }
   ],
   "source": [
    "(df1[[\"country_code\", \"city\"]]\n",
    ".groupby([\"country_code\"])\n",
    ".nunique()\n",
    ".sort_values(\"city\", ascending=False)\n",
    ".reset_index()\n",
    ")"
   ]
  },
  {
   "cell_type": "markdown",
   "id": "b4fe42da-0dc9-4a22-be16-6e3b50986bcd",
   "metadata": {},
   "source": [
    "3 - Média de Avaliação feitas por País"
   ]
  },
  {
   "cell_type": "code",
   "execution_count": 71,
   "id": "d4a698bd-e784-4419-abce-7d0736ea6b29",
   "metadata": {},
   "outputs": [
    {
     "data": {
      "text/html": [
       "<div>\n",
       "<style scoped>\n",
       "    .dataframe tbody tr th:only-of-type {\n",
       "        vertical-align: middle;\n",
       "    }\n",
       "\n",
       "    .dataframe tbody tr th {\n",
       "        vertical-align: top;\n",
       "    }\n",
       "\n",
       "    .dataframe thead th {\n",
       "        text-align: right;\n",
       "    }\n",
       "</style>\n",
       "<table border=\"1\" class=\"dataframe\">\n",
       "  <thead>\n",
       "    <tr style=\"text-align: right;\">\n",
       "      <th></th>\n",
       "      <th>country_code</th>\n",
       "      <th>votes</th>\n",
       "    </tr>\n",
       "  </thead>\n",
       "  <tbody>\n",
       "    <tr>\n",
       "      <th>0</th>\n",
       "      <td>Indonesia</td>\n",
       "      <td>1112.82</td>\n",
       "    </tr>\n",
       "    <tr>\n",
       "      <th>1</th>\n",
       "      <td>India</td>\n",
       "      <td>897.50</td>\n",
       "    </tr>\n",
       "    <tr>\n",
       "      <th>2</th>\n",
       "      <td>Australia</td>\n",
       "      <td>724.21</td>\n",
       "    </tr>\n",
       "    <tr>\n",
       "      <th>3</th>\n",
       "      <td>Turkey</td>\n",
       "      <td>630.14</td>\n",
       "    </tr>\n",
       "    <tr>\n",
       "      <th>4</th>\n",
       "      <td>Philippines</td>\n",
       "      <td>604.98</td>\n",
       "    </tr>\n",
       "    <tr>\n",
       "      <th>5</th>\n",
       "      <td>United Arab Emirates</td>\n",
       "      <td>591.88</td>\n",
       "    </tr>\n",
       "    <tr>\n",
       "      <th>6</th>\n",
       "      <td>Canada</td>\n",
       "      <td>583.43</td>\n",
       "    </tr>\n",
       "    <tr>\n",
       "      <th>7</th>\n",
       "      <td>United States of America</td>\n",
       "      <td>379.84</td>\n",
       "    </tr>\n",
       "    <tr>\n",
       "      <th>8</th>\n",
       "      <td>Qatar</td>\n",
       "      <td>376.32</td>\n",
       "    </tr>\n",
       "    <tr>\n",
       "      <th>9</th>\n",
       "      <td>South Africa</td>\n",
       "      <td>236.82</td>\n",
       "    </tr>\n",
       "    <tr>\n",
       "      <th>10</th>\n",
       "      <td>New Zeland</td>\n",
       "      <td>219.80</td>\n",
       "    </tr>\n",
       "    <tr>\n",
       "      <th>11</th>\n",
       "      <td>Sri Lanka</td>\n",
       "      <td>151.66</td>\n",
       "    </tr>\n",
       "    <tr>\n",
       "      <th>12</th>\n",
       "      <td>England</td>\n",
       "      <td>99.89</td>\n",
       "    </tr>\n",
       "    <tr>\n",
       "      <th>13</th>\n",
       "      <td>Singapure</td>\n",
       "      <td>22.78</td>\n",
       "    </tr>\n",
       "    <tr>\n",
       "      <th>14</th>\n",
       "      <td>Brazil</td>\n",
       "      <td>12.40</td>\n",
       "    </tr>\n",
       "  </tbody>\n",
       "</table>\n",
       "</div>"
      ],
      "text/plain": [
       "                country_code    votes\n",
       "0                  Indonesia  1112.82\n",
       "1                      India   897.50\n",
       "2                  Australia   724.21\n",
       "3                     Turkey   630.14\n",
       "4                Philippines   604.98\n",
       "5       United Arab Emirates   591.88\n",
       "6                     Canada   583.43\n",
       "7   United States of America   379.84\n",
       "8                      Qatar   376.32\n",
       "9               South Africa   236.82\n",
       "10                New Zeland   219.80\n",
       "11                 Sri Lanka   151.66\n",
       "12                   England    99.89\n",
       "13                 Singapure    22.78\n",
       "14                    Brazil    12.40"
      ]
     },
     "execution_count": 71,
     "metadata": {},
     "output_type": "execute_result"
    }
   ],
   "source": [
    "round(df1[[\"country_code\", \"votes\"]]\n",
    "      .groupby([\"country_code\"])\n",
    "      .mean()\n",
    "      .sort_values(\"votes\", ascending=False)\n",
    "      .reset_index(),2\n",
    ")"
   ]
  },
  {
   "cell_type": "markdown",
   "id": "5a248de9-1224-4634-9021-ce9d4aa9db29",
   "metadata": {},
   "source": [
    "4 - Média de Preço de um prato para duas pessoas por País"
   ]
  },
  {
   "cell_type": "code",
   "execution_count": 72,
   "id": "b113c2ea-1228-40dc-9061-1bf5f22d6997",
   "metadata": {},
   "outputs": [
    {
     "data": {
      "text/html": [
       "<div>\n",
       "<style scoped>\n",
       "    .dataframe tbody tr th:only-of-type {\n",
       "        vertical-align: middle;\n",
       "    }\n",
       "\n",
       "    .dataframe tbody tr th {\n",
       "        vertical-align: top;\n",
       "    }\n",
       "\n",
       "    .dataframe thead th {\n",
       "        text-align: right;\n",
       "    }\n",
       "</style>\n",
       "<table border=\"1\" class=\"dataframe\">\n",
       "  <thead>\n",
       "    <tr style=\"text-align: right;\">\n",
       "      <th></th>\n",
       "      <th>country_code</th>\n",
       "      <th>average_cost_for_two</th>\n",
       "    </tr>\n",
       "  </thead>\n",
       "  <tbody>\n",
       "    <tr>\n",
       "      <th>0</th>\n",
       "      <td>Indonesia</td>\n",
       "      <td>303000.00</td>\n",
       "    </tr>\n",
       "    <tr>\n",
       "      <th>1</th>\n",
       "      <td>Australia</td>\n",
       "      <td>138959.78</td>\n",
       "    </tr>\n",
       "    <tr>\n",
       "      <th>2</th>\n",
       "      <td>Sri Lanka</td>\n",
       "      <td>2579.38</td>\n",
       "    </tr>\n",
       "    <tr>\n",
       "      <th>3</th>\n",
       "      <td>Philippines</td>\n",
       "      <td>1227.82</td>\n",
       "    </tr>\n",
       "    <tr>\n",
       "      <th>4</th>\n",
       "      <td>India</td>\n",
       "      <td>703.60</td>\n",
       "    </tr>\n",
       "    <tr>\n",
       "      <th>5</th>\n",
       "      <td>South Africa</td>\n",
       "      <td>339.23</td>\n",
       "    </tr>\n",
       "    <tr>\n",
       "      <th>6</th>\n",
       "      <td>Qatar</td>\n",
       "      <td>174.00</td>\n",
       "    </tr>\n",
       "    <tr>\n",
       "      <th>7</th>\n",
       "      <td>United Arab Emirates</td>\n",
       "      <td>153.72</td>\n",
       "    </tr>\n",
       "    <tr>\n",
       "      <th>8</th>\n",
       "      <td>Singapure</td>\n",
       "      <td>141.44</td>\n",
       "    </tr>\n",
       "    <tr>\n",
       "      <th>9</th>\n",
       "      <td>Brazil</td>\n",
       "      <td>138.81</td>\n",
       "    </tr>\n",
       "    <tr>\n",
       "      <th>10</th>\n",
       "      <td>Turkey</td>\n",
       "      <td>128.58</td>\n",
       "    </tr>\n",
       "    <tr>\n",
       "      <th>11</th>\n",
       "      <td>New Zeland</td>\n",
       "      <td>62.15</td>\n",
       "    </tr>\n",
       "    <tr>\n",
       "      <th>12</th>\n",
       "      <td>United States of America</td>\n",
       "      <td>55.02</td>\n",
       "    </tr>\n",
       "    <tr>\n",
       "      <th>13</th>\n",
       "      <td>England</td>\n",
       "      <td>43.51</td>\n",
       "    </tr>\n",
       "    <tr>\n",
       "      <th>14</th>\n",
       "      <td>Canada</td>\n",
       "      <td>41.86</td>\n",
       "    </tr>\n",
       "  </tbody>\n",
       "</table>\n",
       "</div>"
      ],
      "text/plain": [
       "                country_code  average_cost_for_two\n",
       "0                  Indonesia             303000.00\n",
       "1                  Australia             138959.78\n",
       "2                  Sri Lanka               2579.38\n",
       "3                Philippines               1227.82\n",
       "4                      India                703.60\n",
       "5               South Africa                339.23\n",
       "6                      Qatar                174.00\n",
       "7       United Arab Emirates                153.72\n",
       "8                  Singapure                141.44\n",
       "9                     Brazil                138.81\n",
       "10                    Turkey                128.58\n",
       "11                New Zeland                 62.15\n",
       "12  United States of America                 55.02\n",
       "13                   England                 43.51\n",
       "14                    Canada                 41.86"
      ]
     },
     "execution_count": 72,
     "metadata": {},
     "output_type": "execute_result"
    }
   ],
   "source": [
    "round(df1[[\"country_code\", \"average_cost_for_two\"]]\n",
    "      .groupby([\"country_code\"])\n",
    "      .mean()\n",
    "      .sort_values(\"average_cost_for_two\", ascending=False)\n",
    "      .reset_index(),2\n",
    ")"
   ]
  },
  {
   "cell_type": "code",
   "execution_count": null,
   "id": "32ea05ea-9619-44c5-be81-f6b39b09f487",
   "metadata": {},
   "outputs": [],
   "source": []
  },
  {
   "cell_type": "code",
   "execution_count": null,
   "id": "d6fec7d0-573c-4587-a4e4-b58fa44d70a2",
   "metadata": {},
   "outputs": [],
   "source": []
  },
  {
   "cell_type": "markdown",
   "id": "3d67fa82-9424-4081-8522-cd1401034b4e",
   "metadata": {},
   "source": [
    "### Visão Cidades"
   ]
  },
  {
   "cell_type": "markdown",
   "id": "068b1aa5-ede1-464e-a754-87dd353f883b",
   "metadata": {},
   "source": [
    "1 - Top 10 cidades com mais restaurantes na base de dados"
   ]
  },
  {
   "cell_type": "code",
   "execution_count": 73,
   "id": "ca0e1870-7432-4a07-9a55-b73a49216ba8",
   "metadata": {},
   "outputs": [
    {
     "data": {
      "text/html": [
       "<div>\n",
       "<style scoped>\n",
       "    .dataframe tbody tr th:only-of-type {\n",
       "        vertical-align: middle;\n",
       "    }\n",
       "\n",
       "    .dataframe tbody tr th {\n",
       "        vertical-align: top;\n",
       "    }\n",
       "\n",
       "    .dataframe thead th {\n",
       "        text-align: right;\n",
       "    }\n",
       "</style>\n",
       "<table border=\"1\" class=\"dataframe\">\n",
       "  <thead>\n",
       "    <tr style=\"text-align: right;\">\n",
       "      <th></th>\n",
       "      <th>city</th>\n",
       "      <th>country_code</th>\n",
       "      <th>restaurant_id</th>\n",
       "    </tr>\n",
       "  </thead>\n",
       "  <tbody>\n",
       "    <tr>\n",
       "      <th>0</th>\n",
       "      <td>Abu Dhabi</td>\n",
       "      <td>United Arab Emirates</td>\n",
       "      <td>80</td>\n",
       "    </tr>\n",
       "    <tr>\n",
       "      <th>1</th>\n",
       "      <td>Agra</td>\n",
       "      <td>India</td>\n",
       "      <td>80</td>\n",
       "    </tr>\n",
       "    <tr>\n",
       "      <th>2</th>\n",
       "      <td>Allahabad</td>\n",
       "      <td>India</td>\n",
       "      <td>80</td>\n",
       "    </tr>\n",
       "    <tr>\n",
       "      <th>3</th>\n",
       "      <td>Amritsar</td>\n",
       "      <td>India</td>\n",
       "      <td>80</td>\n",
       "    </tr>\n",
       "    <tr>\n",
       "      <th>4</th>\n",
       "      <td>Ankara</td>\n",
       "      <td>Turkey</td>\n",
       "      <td>80</td>\n",
       "    </tr>\n",
       "    <tr>\n",
       "      <th>...</th>\n",
       "      <td>...</td>\n",
       "      <td>...</td>\n",
       "      <td>...</td>\n",
       "    </tr>\n",
       "    <tr>\n",
       "      <th>120</th>\n",
       "      <td>Marikina City</td>\n",
       "      <td>Philippines</td>\n",
       "      <td>1</td>\n",
       "    </tr>\n",
       "    <tr>\n",
       "      <th>121</th>\n",
       "      <td>Muntinlupa City</td>\n",
       "      <td>Philippines</td>\n",
       "      <td>1</td>\n",
       "    </tr>\n",
       "    <tr>\n",
       "      <th>122</th>\n",
       "      <td>Roodepoort</td>\n",
       "      <td>South Africa</td>\n",
       "      <td>1</td>\n",
       "    </tr>\n",
       "    <tr>\n",
       "      <th>123</th>\n",
       "      <td>San Juan City</td>\n",
       "      <td>Philippines</td>\n",
       "      <td>1</td>\n",
       "    </tr>\n",
       "    <tr>\n",
       "      <th>124</th>\n",
       "      <td>Zirakpur</td>\n",
       "      <td>India</td>\n",
       "      <td>1</td>\n",
       "    </tr>\n",
       "  </tbody>\n",
       "</table>\n",
       "<p>125 rows × 3 columns</p>\n",
       "</div>"
      ],
      "text/plain": [
       "                city          country_code  restaurant_id\n",
       "0          Abu Dhabi  United Arab Emirates             80\n",
       "1               Agra                 India             80\n",
       "2          Allahabad                 India             80\n",
       "3           Amritsar                 India             80\n",
       "4             Ankara                Turkey             80\n",
       "..               ...                   ...            ...\n",
       "120    Marikina City           Philippines              1\n",
       "121  Muntinlupa City           Philippines              1\n",
       "122       Roodepoort          South Africa              1\n",
       "123    San Juan City           Philippines              1\n",
       "124         Zirakpur                 India              1\n",
       "\n",
       "[125 rows x 3 columns]"
      ]
     },
     "execution_count": 73,
     "metadata": {},
     "output_type": "execute_result"
    }
   ],
   "source": [
    "(df1[['restaurant_id', 'country_code', 'city']]\n",
    ".groupby(['city', 'country_code'])\n",
    ".count()\n",
    ".sort_values(['restaurant_id', 'city'] , ascending=[False,True])\n",
    ".reset_index()\n",
    ")"
   ]
  },
  {
   "cell_type": "markdown",
   "id": "a83a7f0a-f7bb-4513-a703-718de8b705cf",
   "metadata": {},
   "source": [
    "2 - Top 7 Cidades com Restaurantes com média de avaliação acima de 4"
   ]
  },
  {
   "cell_type": "code",
   "execution_count": 74,
   "id": "fd917204-573b-4462-b6fa-284d1617f0ee",
   "metadata": {},
   "outputs": [
    {
     "data": {
      "text/html": [
       "<div>\n",
       "<style scoped>\n",
       "    .dataframe tbody tr th:only-of-type {\n",
       "        vertical-align: middle;\n",
       "    }\n",
       "\n",
       "    .dataframe tbody tr th {\n",
       "        vertical-align: top;\n",
       "    }\n",
       "\n",
       "    .dataframe thead th {\n",
       "        text-align: right;\n",
       "    }\n",
       "</style>\n",
       "<table border=\"1\" class=\"dataframe\">\n",
       "  <thead>\n",
       "    <tr style=\"text-align: right;\">\n",
       "      <th></th>\n",
       "      <th>city</th>\n",
       "      <th>country_code</th>\n",
       "      <th>restaurant_id</th>\n",
       "    </tr>\n",
       "  </thead>\n",
       "  <tbody>\n",
       "    <tr>\n",
       "      <th>0</th>\n",
       "      <td>London</td>\n",
       "      <td>England</td>\n",
       "      <td>80</td>\n",
       "    </tr>\n",
       "    <tr>\n",
       "      <th>1</th>\n",
       "      <td>Bangalore</td>\n",
       "      <td>India</td>\n",
       "      <td>79</td>\n",
       "    </tr>\n",
       "    <tr>\n",
       "      <th>2</th>\n",
       "      <td>Houston</td>\n",
       "      <td>United States of America</td>\n",
       "      <td>77</td>\n",
       "    </tr>\n",
       "    <tr>\n",
       "      <th>3</th>\n",
       "      <td>Pune</td>\n",
       "      <td>India</td>\n",
       "      <td>77</td>\n",
       "    </tr>\n",
       "    <tr>\n",
       "      <th>4</th>\n",
       "      <td>Kolkata</td>\n",
       "      <td>India</td>\n",
       "      <td>76</td>\n",
       "    </tr>\n",
       "    <tr>\n",
       "      <th>...</th>\n",
       "      <td>...</td>\n",
       "      <td>...</td>\n",
       "      <td>...</td>\n",
       "    </tr>\n",
       "    <tr>\n",
       "      <th>116</th>\n",
       "      <td>Muntinlupa City</td>\n",
       "      <td>Philippines</td>\n",
       "      <td>1</td>\n",
       "    </tr>\n",
       "    <tr>\n",
       "      <th>117</th>\n",
       "      <td>Nasik</td>\n",
       "      <td>India</td>\n",
       "      <td>1</td>\n",
       "    </tr>\n",
       "    <tr>\n",
       "      <th>118</th>\n",
       "      <td>Roodepoort</td>\n",
       "      <td>South Africa</td>\n",
       "      <td>1</td>\n",
       "    </tr>\n",
       "    <tr>\n",
       "      <th>119</th>\n",
       "      <td>San Juan City</td>\n",
       "      <td>Philippines</td>\n",
       "      <td>1</td>\n",
       "    </tr>\n",
       "    <tr>\n",
       "      <th>120</th>\n",
       "      <td>Zirakpur</td>\n",
       "      <td>India</td>\n",
       "      <td>1</td>\n",
       "    </tr>\n",
       "  </tbody>\n",
       "</table>\n",
       "<p>121 rows × 3 columns</p>\n",
       "</div>"
      ],
      "text/plain": [
       "                city              country_code  restaurant_id\n",
       "0             London                   England             80\n",
       "1          Bangalore                     India             79\n",
       "2            Houston  United States of America             77\n",
       "3               Pune                     India             77\n",
       "4            Kolkata                     India             76\n",
       "..               ...                       ...            ...\n",
       "116  Muntinlupa City               Philippines              1\n",
       "117            Nasik                     India              1\n",
       "118       Roodepoort              South Africa              1\n",
       "119    San Juan City               Philippines              1\n",
       "120         Zirakpur                     India              1\n",
       "\n",
       "[121 rows x 3 columns]"
      ]
     },
     "execution_count": 74,
     "metadata": {},
     "output_type": "execute_result"
    }
   ],
   "source": [
    "(df1.loc[df1[\"aggregate_rating\"] >= 4, [\"city\", \"country_code\", \"restaurant_id\"]]\n",
    ".groupby([\"city\", \"country_code\"])\n",
    ".count()\n",
    ".sort_values([\"restaurant_id\", \"city\"], ascending=[False,True])\n",
    ".reset_index()\n",
    ")"
   ]
  },
  {
   "cell_type": "markdown",
   "id": "6485fba0-6627-4537-a87e-f5ebabc31ec7",
   "metadata": {},
   "source": [
    "3 - Top 7 Cidades com Restaurantes com média de avaliação abaixo de 2.5\""
   ]
  },
  {
   "cell_type": "code",
   "execution_count": 75,
   "id": "113f37d4-bfdf-478d-8556-430da5cd7855",
   "metadata": {},
   "outputs": [
    {
     "data": {
      "text/html": [
       "<div>\n",
       "<style scoped>\n",
       "    .dataframe tbody tr th:only-of-type {\n",
       "        vertical-align: middle;\n",
       "    }\n",
       "\n",
       "    .dataframe tbody tr th {\n",
       "        vertical-align: top;\n",
       "    }\n",
       "\n",
       "    .dataframe thead th {\n",
       "        text-align: right;\n",
       "    }\n",
       "</style>\n",
       "<table border=\"1\" class=\"dataframe\">\n",
       "  <thead>\n",
       "    <tr style=\"text-align: right;\">\n",
       "      <th></th>\n",
       "      <th>city</th>\n",
       "      <th>country_code</th>\n",
       "      <th>restaurant_id</th>\n",
       "    </tr>\n",
       "  </thead>\n",
       "  <tbody>\n",
       "    <tr>\n",
       "      <th>0</th>\n",
       "      <td>Gangtok</td>\n",
       "      <td>India</td>\n",
       "      <td>40</td>\n",
       "    </tr>\n",
       "    <tr>\n",
       "      <th>1</th>\n",
       "      <td>Ooty</td>\n",
       "      <td>India</td>\n",
       "      <td>19</td>\n",
       "    </tr>\n",
       "    <tr>\n",
       "      <th>2</th>\n",
       "      <td>Brasília</td>\n",
       "      <td>Brazil</td>\n",
       "      <td>16</td>\n",
       "    </tr>\n",
       "    <tr>\n",
       "      <th>3</th>\n",
       "      <td>São Paulo</td>\n",
       "      <td>Brazil</td>\n",
       "      <td>16</td>\n",
       "    </tr>\n",
       "    <tr>\n",
       "      <th>4</th>\n",
       "      <td>Rio de Janeiro</td>\n",
       "      <td>Brazil</td>\n",
       "      <td>13</td>\n",
       "    </tr>\n",
       "    <tr>\n",
       "      <th>5</th>\n",
       "      <td>Manchester</td>\n",
       "      <td>England</td>\n",
       "      <td>7</td>\n",
       "    </tr>\n",
       "    <tr>\n",
       "      <th>6</th>\n",
       "      <td>Clarens</td>\n",
       "      <td>South Africa</td>\n",
       "      <td>4</td>\n",
       "    </tr>\n",
       "    <tr>\n",
       "      <th>7</th>\n",
       "      <td>Shimla</td>\n",
       "      <td>India</td>\n",
       "      <td>4</td>\n",
       "    </tr>\n",
       "    <tr>\n",
       "      <th>8</th>\n",
       "      <td>Ankara</td>\n",
       "      <td>Turkey</td>\n",
       "      <td>3</td>\n",
       "    </tr>\n",
       "    <tr>\n",
       "      <th>9</th>\n",
       "      <td>Hamilton</td>\n",
       "      <td>New Zeland</td>\n",
       "      <td>3</td>\n",
       "    </tr>\n",
       "    <tr>\n",
       "      <th>10</th>\n",
       "      <td>Durban</td>\n",
       "      <td>South Africa</td>\n",
       "      <td>2</td>\n",
       "    </tr>\n",
       "    <tr>\n",
       "      <th>11</th>\n",
       "      <td>Edinburgh</td>\n",
       "      <td>England</td>\n",
       "      <td>2</td>\n",
       "    </tr>\n",
       "    <tr>\n",
       "      <th>12</th>\n",
       "      <td>Patna</td>\n",
       "      <td>India</td>\n",
       "      <td>2</td>\n",
       "    </tr>\n",
       "    <tr>\n",
       "      <th>13</th>\n",
       "      <td>Puducherry</td>\n",
       "      <td>India</td>\n",
       "      <td>2</td>\n",
       "    </tr>\n",
       "    <tr>\n",
       "      <th>14</th>\n",
       "      <td>Aurangabad</td>\n",
       "      <td>India</td>\n",
       "      <td>1</td>\n",
       "    </tr>\n",
       "    <tr>\n",
       "      <th>15</th>\n",
       "      <td>Cape Town</td>\n",
       "      <td>South Africa</td>\n",
       "      <td>1</td>\n",
       "    </tr>\n",
       "    <tr>\n",
       "      <th>16</th>\n",
       "      <td>Colombo</td>\n",
       "      <td>Sri Lanka</td>\n",
       "      <td>1</td>\n",
       "    </tr>\n",
       "    <tr>\n",
       "      <th>17</th>\n",
       "      <td>Dehradun</td>\n",
       "      <td>India</td>\n",
       "      <td>1</td>\n",
       "    </tr>\n",
       "    <tr>\n",
       "      <th>18</th>\n",
       "      <td>Nashik</td>\n",
       "      <td>India</td>\n",
       "      <td>1</td>\n",
       "    </tr>\n",
       "    <tr>\n",
       "      <th>19</th>\n",
       "      <td>Perth</td>\n",
       "      <td>Australia</td>\n",
       "      <td>1</td>\n",
       "    </tr>\n",
       "    <tr>\n",
       "      <th>20</th>\n",
       "      <td>Pretoria</td>\n",
       "      <td>South Africa</td>\n",
       "      <td>1</td>\n",
       "    </tr>\n",
       "  </tbody>\n",
       "</table>\n",
       "</div>"
      ],
      "text/plain": [
       "              city  country_code  restaurant_id\n",
       "0          Gangtok         India             40\n",
       "1             Ooty         India             19\n",
       "2         Brasília        Brazil             16\n",
       "3        São Paulo        Brazil             16\n",
       "4   Rio de Janeiro        Brazil             13\n",
       "5       Manchester       England              7\n",
       "6          Clarens  South Africa              4\n",
       "7           Shimla         India              4\n",
       "8           Ankara        Turkey              3\n",
       "9         Hamilton    New Zeland              3\n",
       "10          Durban  South Africa              2\n",
       "11       Edinburgh       England              2\n",
       "12           Patna         India              2\n",
       "13      Puducherry         India              2\n",
       "14      Aurangabad         India              1\n",
       "15       Cape Town  South Africa              1\n",
       "16         Colombo     Sri Lanka              1\n",
       "17        Dehradun         India              1\n",
       "18          Nashik         India              1\n",
       "19           Perth     Australia              1\n",
       "20        Pretoria  South Africa              1"
      ]
     },
     "execution_count": 75,
     "metadata": {},
     "output_type": "execute_result"
    }
   ],
   "source": [
    "(df1.loc[df1[\"aggregate_rating\"] <= 2.5, [\"city\", \"country_code\", \"restaurant_id\"]]\n",
    ".groupby([\"city\", \"country_code\"])\n",
    ".count()\n",
    ".sort_values([\"restaurant_id\", \"city\"], ascending=[False,True])\n",
    ".reset_index()\n",
    ")"
   ]
  },
  {
   "cell_type": "markdown",
   "id": "18766297-9a5d-450d-810a-81113d139d7b",
   "metadata": {},
   "source": [
    "4 - Top 10 Cidades mais restaurantes com tipos culinários distintos"
   ]
  },
  {
   "cell_type": "code",
   "execution_count": 89,
   "id": "88520600-4828-41cc-893b-f181dfb97f5b",
   "metadata": {},
   "outputs": [
    {
     "data": {
      "text/html": [
       "<div>\n",
       "<style scoped>\n",
       "    .dataframe tbody tr th:only-of-type {\n",
       "        vertical-align: middle;\n",
       "    }\n",
       "\n",
       "    .dataframe tbody tr th {\n",
       "        vertical-align: top;\n",
       "    }\n",
       "\n",
       "    .dataframe thead th {\n",
       "        text-align: right;\n",
       "    }\n",
       "</style>\n",
       "<table border=\"1\" class=\"dataframe\">\n",
       "  <thead>\n",
       "    <tr style=\"text-align: right;\">\n",
       "      <th></th>\n",
       "      <th>city</th>\n",
       "      <th>country_code</th>\n",
       "      <th>cuisines</th>\n",
       "    </tr>\n",
       "  </thead>\n",
       "  <tbody>\n",
       "    <tr>\n",
       "      <th>0</th>\n",
       "      <td>Birmingham</td>\n",
       "      <td>England</td>\n",
       "      <td>32</td>\n",
       "    </tr>\n",
       "    <tr>\n",
       "      <th>1</th>\n",
       "      <td>Doha</td>\n",
       "      <td>Qatar</td>\n",
       "      <td>31</td>\n",
       "    </tr>\n",
       "    <tr>\n",
       "      <th>2</th>\n",
       "      <td>Houston</td>\n",
       "      <td>United States of America</td>\n",
       "      <td>30</td>\n",
       "    </tr>\n",
       "    <tr>\n",
       "      <th>3</th>\n",
       "      <td>Manchester</td>\n",
       "      <td>England</td>\n",
       "      <td>30</td>\n",
       "    </tr>\n",
       "    <tr>\n",
       "      <th>4</th>\n",
       "      <td>Montreal</td>\n",
       "      <td>Canada</td>\n",
       "      <td>30</td>\n",
       "    </tr>\n",
       "    <tr>\n",
       "      <th>...</th>\n",
       "      <td>...</td>\n",
       "      <td>...</td>\n",
       "      <td>...</td>\n",
       "    </tr>\n",
       "    <tr>\n",
       "      <th>120</th>\n",
       "      <td>Marikina City</td>\n",
       "      <td>Philippines</td>\n",
       "      <td>1</td>\n",
       "    </tr>\n",
       "    <tr>\n",
       "      <th>121</th>\n",
       "      <td>Muntinlupa City</td>\n",
       "      <td>Philippines</td>\n",
       "      <td>1</td>\n",
       "    </tr>\n",
       "    <tr>\n",
       "      <th>122</th>\n",
       "      <td>Roodepoort</td>\n",
       "      <td>South Africa</td>\n",
       "      <td>1</td>\n",
       "    </tr>\n",
       "    <tr>\n",
       "      <th>123</th>\n",
       "      <td>San Juan City</td>\n",
       "      <td>Philippines</td>\n",
       "      <td>1</td>\n",
       "    </tr>\n",
       "    <tr>\n",
       "      <th>124</th>\n",
       "      <td>Zirakpur</td>\n",
       "      <td>India</td>\n",
       "      <td>1</td>\n",
       "    </tr>\n",
       "  </tbody>\n",
       "</table>\n",
       "<p>125 rows × 3 columns</p>\n",
       "</div>"
      ],
      "text/plain": [
       "                city              country_code  cuisines\n",
       "0         Birmingham                   England        32\n",
       "1               Doha                     Qatar        31\n",
       "2            Houston  United States of America        30\n",
       "3         Manchester                   England        30\n",
       "4           Montreal                    Canada        30\n",
       "..               ...                       ...       ...\n",
       "120    Marikina City               Philippines         1\n",
       "121  Muntinlupa City               Philippines         1\n",
       "122       Roodepoort              South Africa         1\n",
       "123    San Juan City               Philippines         1\n",
       "124         Zirakpur                     India         1\n",
       "\n",
       "[125 rows x 3 columns]"
      ]
     },
     "execution_count": 89,
     "metadata": {},
     "output_type": "execute_result"
    }
   ],
   "source": [
    "(df1[[\"city\", \"country_code\", \"cuisines\"]]\n",
    ".groupby([\"city\", \"country_code\"])\n",
    ".nunique()\n",
    ".sort_values([\"cuisines\", \"city\"], ascending=[False, True])\n",
    ".reset_index()\n",
    ") "
   ]
  },
  {
   "cell_type": "code",
   "execution_count": null,
   "id": "57bd82ed-6124-4912-a7f7-f83fd1191cce",
   "metadata": {},
   "outputs": [],
   "source": []
  },
  {
   "cell_type": "code",
   "execution_count": null,
   "id": "2ab14ca8-1787-4b53-b94c-0b31f9cb6c3f",
   "metadata": {},
   "outputs": [],
   "source": []
  },
  {
   "cell_type": "markdown",
   "id": "a6050f5f-dcda-4bcc-837f-b8d4e706f848",
   "metadata": {},
   "source": [
    "### Visão Cozinha"
   ]
  },
  {
   "cell_type": "markdown",
   "id": "134aae06-edba-4e57-b368-53c51e5f61e3",
   "metadata": {},
   "source": [
    "1 - Melhores Restaurantes dos Principais tipos Culinários"
   ]
  },
  {
   "cell_type": "code",
   "execution_count": 106,
   "id": "ce463b73-9e57-4895-8983-b3ac4c8b235b",
   "metadata": {},
   "outputs": [
    {
     "data": {
      "text/html": [
       "<div>\n",
       "<style scoped>\n",
       "    .dataframe tbody tr th:only-of-type {\n",
       "        vertical-align: middle;\n",
       "    }\n",
       "\n",
       "    .dataframe tbody tr th {\n",
       "        vertical-align: top;\n",
       "    }\n",
       "\n",
       "    .dataframe thead th {\n",
       "        text-align: right;\n",
       "    }\n",
       "</style>\n",
       "<table border=\"1\" class=\"dataframe\">\n",
       "  <thead>\n",
       "    <tr style=\"text-align: right;\">\n",
       "      <th></th>\n",
       "      <th>cuisines</th>\n",
       "      <th>country_code</th>\n",
       "      <th>restaurant_id</th>\n",
       "      <th>aggregate_rating</th>\n",
       "    </tr>\n",
       "  </thead>\n",
       "  <tbody>\n",
       "    <tr>\n",
       "      <th>0</th>\n",
       "      <td>Greek</td>\n",
       "      <td>Turkey</td>\n",
       "      <td>5915409</td>\n",
       "      <td>4.9</td>\n",
       "    </tr>\n",
       "    <tr>\n",
       "      <th>1</th>\n",
       "      <td>Patisserie</td>\n",
       "      <td>Turkey</td>\n",
       "      <td>6003426</td>\n",
       "      <td>4.9</td>\n",
       "    </tr>\n",
       "    <tr>\n",
       "      <th>2</th>\n",
       "      <td>Pizza</td>\n",
       "      <td>Turkey</td>\n",
       "      <td>6005865</td>\n",
       "      <td>4.9</td>\n",
       "    </tr>\n",
       "    <tr>\n",
       "      <th>3</th>\n",
       "      <td>Taiwanese</td>\n",
       "      <td>England</td>\n",
       "      <td>6127163</td>\n",
       "      <td>4.9</td>\n",
       "    </tr>\n",
       "    <tr>\n",
       "      <th>4</th>\n",
       "      <td>Seafood</td>\n",
       "      <td>New Zeland</td>\n",
       "      <td>7100916</td>\n",
       "      <td>4.9</td>\n",
       "    </tr>\n",
       "    <tr>\n",
       "      <th>...</th>\n",
       "      <td>...</td>\n",
       "      <td>...</td>\n",
       "      <td>...</td>\n",
       "      <td>...</td>\n",
       "    </tr>\n",
       "    <tr>\n",
       "      <th>594</th>\n",
       "      <td>Chinese</td>\n",
       "      <td>Brazil</td>\n",
       "      <td>6600495</td>\n",
       "      <td>0.0</td>\n",
       "    </tr>\n",
       "    <tr>\n",
       "      <th>595</th>\n",
       "      <td>Asian</td>\n",
       "      <td>Brazil</td>\n",
       "      <td>6703191</td>\n",
       "      <td>0.0</td>\n",
       "    </tr>\n",
       "    <tr>\n",
       "      <th>596</th>\n",
       "      <td>Vegetarian</td>\n",
       "      <td>Brazil</td>\n",
       "      <td>7303564</td>\n",
       "      <td>0.0</td>\n",
       "    </tr>\n",
       "    <tr>\n",
       "      <th>597</th>\n",
       "      <td>Drinks Only</td>\n",
       "      <td>South Africa</td>\n",
       "      <td>16547518</td>\n",
       "      <td>0.0</td>\n",
       "    </tr>\n",
       "    <tr>\n",
       "      <th>598</th>\n",
       "      <td>Mineira</td>\n",
       "      <td>Brazil</td>\n",
       "      <td>18516213</td>\n",
       "      <td>0.0</td>\n",
       "    </tr>\n",
       "  </tbody>\n",
       "</table>\n",
       "<p>599 rows × 4 columns</p>\n",
       "</div>"
      ],
      "text/plain": [
       "        cuisines  country_code  restaurant_id  aggregate_rating\n",
       "0          Greek        Turkey        5915409               4.9\n",
       "1     Patisserie        Turkey        6003426               4.9\n",
       "2          Pizza        Turkey        6005865               4.9\n",
       "3      Taiwanese       England        6127163               4.9\n",
       "4        Seafood    New Zeland        7100916               4.9\n",
       "..           ...           ...            ...               ...\n",
       "594      Chinese        Brazil        6600495               0.0\n",
       "595        Asian        Brazil        6703191               0.0\n",
       "596   Vegetarian        Brazil        7303564               0.0\n",
       "597  Drinks Only  South Africa       16547518               0.0\n",
       "598      Mineira        Brazil       18516213               0.0\n",
       "\n",
       "[599 rows x 4 columns]"
      ]
     },
     "execution_count": 106,
     "metadata": {},
     "output_type": "execute_result"
    }
   ],
   "source": [
    "df1[[\"restaurant_id\", \"cuisines\", \"country_code\", \"aggregate_rating\"]].groupby([\"cuisines\", \"country_code\"]).max().sort_values([\"aggregate_rating\", \"restaurant_id\"], ascending=[False,True]).reset_index()"
   ]
  },
  {
   "cell_type": "markdown",
   "id": "6e8903c4-fcff-446e-bf9c-ad5c60bdade4",
   "metadata": {},
   "source": [
    "2 - Top 10 Restaurantes"
   ]
  },
  {
   "cell_type": "code",
   "execution_count": 127,
   "id": "cd62b117-b323-4d7e-b377-576675aa06db",
   "metadata": {},
   "outputs": [
    {
     "data": {
      "text/html": [
       "<div>\n",
       "<style scoped>\n",
       "    .dataframe tbody tr th:only-of-type {\n",
       "        vertical-align: middle;\n",
       "    }\n",
       "\n",
       "    .dataframe tbody tr th {\n",
       "        vertical-align: top;\n",
       "    }\n",
       "\n",
       "    .dataframe thead th {\n",
       "        text-align: right;\n",
       "    }\n",
       "</style>\n",
       "<table border=\"1\" class=\"dataframe\">\n",
       "  <thead>\n",
       "    <tr style=\"text-align: right;\">\n",
       "      <th></th>\n",
       "      <th>restaurant_id</th>\n",
       "      <th>restaurant_name</th>\n",
       "      <th>country_code</th>\n",
       "      <th>city</th>\n",
       "      <th>cuisines</th>\n",
       "      <th>average_cost_for_two</th>\n",
       "      <th>aggregate_rating</th>\n",
       "      <th>votes</th>\n",
       "    </tr>\n",
       "  </thead>\n",
       "  <tbody>\n",
       "    <tr>\n",
       "      <th>0</th>\n",
       "      <td>7528</td>\n",
       "      <td>Indian Grill Room</td>\n",
       "      <td>India</td>\n",
       "      <td>Gurgaon</td>\n",
       "      <td>North Indian</td>\n",
       "      <td>1800</td>\n",
       "      <td>4.9</td>\n",
       "      <td>3062</td>\n",
       "    </tr>\n",
       "    <tr>\n",
       "      <th>1</th>\n",
       "      <td>8913</td>\n",
       "      <td>Pirates of Grill</td>\n",
       "      <td>India</td>\n",
       "      <td>Gurgaon</td>\n",
       "      <td>North Indian</td>\n",
       "      <td>2000</td>\n",
       "      <td>4.9</td>\n",
       "      <td>5760</td>\n",
       "    </tr>\n",
       "  </tbody>\n",
       "</table>\n",
       "</div>"
      ],
      "text/plain": [
       "   restaurant_id    restaurant_name country_code     city      cuisines  \\\n",
       "0           7528  Indian Grill Room        India  Gurgaon  North Indian   \n",
       "1           8913   Pirates of Grill        India  Gurgaon  North Indian   \n",
       "\n",
       "   average_cost_for_two  aggregate_rating  votes  \n",
       "0                  1800               4.9   3062  \n",
       "1                  2000               4.9   5760  "
      ]
     },
     "execution_count": 127,
     "metadata": {},
     "output_type": "execute_result"
    }
   ],
   "source": [
    "#É apenas uma simulação de como faz, o resultado correto está na visão cozinha\n",
    "\n",
    "cuisines = df1.loc[:, \"cuisines\"].unique().tolist()\n",
    "\n",
    "\n",
    "countries = df1.loc[:, \"country_code\"].unique().tolist()\n",
    "    \n",
    "cols = [\n",
    "        \"restaurant_id\",\n",
    "        \"restaurant_name\",\n",
    "        \"country_code\",\n",
    "        \"city\",\n",
    "        \"cuisines\",\n",
    "        \"average_cost_for_two\",\n",
    "        \"aggregate_rating\",\n",
    "        \"votes\",\n",
    "]\n",
    "\n",
    "lines = (df1[\"cuisines\"].isin(cuisines)) & (df1[\"country_code\"].isin(countries))\n",
    "\n",
    "top10 = df1.loc[lines, cols].sort_values(\n",
    "        [\"aggregate_rating\", \"restaurant_id\"], ascending=[False, True]\n",
    ")\n",
    "\n",
    "\n",
    "top10 = top10.head(2).reset_index(drop=True)\n",
    "top10    "
   ]
  },
  {
   "cell_type": "markdown",
   "id": "cad10f2f-b763-454e-9fbc-eac8e753d7f2",
   "metadata": {},
   "source": [
    "3 - Top 10 Melhores Tipos de Culinárias"
   ]
  },
  {
   "cell_type": "code",
   "execution_count": 133,
   "id": "c8b89688-84c4-4b19-ab06-d61746491df0",
   "metadata": {},
   "outputs": [
    {
     "data": {
      "text/html": [
       "<div>\n",
       "<style scoped>\n",
       "    .dataframe tbody tr th:only-of-type {\n",
       "        vertical-align: middle;\n",
       "    }\n",
       "\n",
       "    .dataframe tbody tr th {\n",
       "        vertical-align: top;\n",
       "    }\n",
       "\n",
       "    .dataframe thead th {\n",
       "        text-align: right;\n",
       "    }\n",
       "</style>\n",
       "<table border=\"1\" class=\"dataframe\">\n",
       "  <thead>\n",
       "    <tr style=\"text-align: right;\">\n",
       "      <th></th>\n",
       "      <th>cuisines</th>\n",
       "      <th>restaurant_id</th>\n",
       "      <th>aggregate_rating</th>\n",
       "    </tr>\n",
       "  </thead>\n",
       "  <tbody>\n",
       "    <tr>\n",
       "      <th>0</th>\n",
       "      <td>Others</td>\n",
       "      <td>16634578.0</td>\n",
       "      <td>4.90</td>\n",
       "    </tr>\n",
       "    <tr>\n",
       "      <th>1</th>\n",
       "      <td>Ramen</td>\n",
       "      <td>11447924.0</td>\n",
       "      <td>4.80</td>\n",
       "    </tr>\n",
       "    <tr>\n",
       "      <th>2</th>\n",
       "      <td>Ottoman</td>\n",
       "      <td>6003596.0</td>\n",
       "      <td>4.80</td>\n",
       "    </tr>\n",
       "    <tr>\n",
       "      <th>3</th>\n",
       "      <td>Egyptian</td>\n",
       "      <td>18741131.5</td>\n",
       "      <td>4.80</td>\n",
       "    </tr>\n",
       "    <tr>\n",
       "      <th>4</th>\n",
       "      <td>Sunda</td>\n",
       "      <td>7417452.5</td>\n",
       "      <td>4.75</td>\n",
       "    </tr>\n",
       "    <tr>\n",
       "      <th>5</th>\n",
       "      <td>Fresh Fish</td>\n",
       "      <td>11350481.0</td>\n",
       "      <td>4.75</td>\n",
       "    </tr>\n",
       "    <tr>\n",
       "      <th>6</th>\n",
       "      <td>Author</td>\n",
       "      <td>6712964.0</td>\n",
       "      <td>4.70</td>\n",
       "    </tr>\n",
       "    <tr>\n",
       "      <th>7</th>\n",
       "      <td>Polish</td>\n",
       "      <td>16990065.0</td>\n",
       "      <td>4.70</td>\n",
       "    </tr>\n",
       "    <tr>\n",
       "      <th>8</th>\n",
       "      <td>Burmese</td>\n",
       "      <td>17745781.5</td>\n",
       "      <td>4.65</td>\n",
       "    </tr>\n",
       "    <tr>\n",
       "      <th>9</th>\n",
       "      <td>Pan Asian</td>\n",
       "      <td>7006871.0</td>\n",
       "      <td>4.60</td>\n",
       "    </tr>\n",
       "  </tbody>\n",
       "</table>\n",
       "</div>"
      ],
      "text/plain": [
       "     cuisines  restaurant_id  aggregate_rating\n",
       "0      Others     16634578.0              4.90\n",
       "1       Ramen     11447924.0              4.80\n",
       "2     Ottoman      6003596.0              4.80\n",
       "3    Egyptian     18741131.5              4.80\n",
       "4       Sunda      7417452.5              4.75\n",
       "5  Fresh Fish     11350481.0              4.75\n",
       "6      Author      6712964.0              4.70\n",
       "7      Polish     16990065.0              4.70\n",
       "8     Burmese     17745781.5              4.65\n",
       "9   Pan Asian      7006871.0              4.60"
      ]
     },
     "execution_count": 133,
     "metadata": {},
     "output_type": "execute_result"
    }
   ],
   "source": [
    "(df1[['cuisines', 'restaurant_id', 'aggregate_rating']]\n",
    ".groupby(['cuisines'])\n",
    ".mean()\n",
    ".sort_values(['aggregate_rating', 'restaurant_id'], ascending=[False, True])\n",
    ".reset_index()\n",
    ".head(10)\n",
    ")"
   ]
  },
  {
   "cell_type": "markdown",
   "id": "2af98897-924b-4c45-b4de-7bf2ae22ad04",
   "metadata": {},
   "source": [
    "4 - Top 10 piores tipos de culinária"
   ]
  },
  {
   "cell_type": "code",
   "execution_count": 139,
   "id": "c7d42fd8-6fa0-4cca-9b10-4c58b700e0af",
   "metadata": {},
   "outputs": [
    {
     "data": {
      "text/html": [
       "<div>\n",
       "<style scoped>\n",
       "    .dataframe tbody tr th:only-of-type {\n",
       "        vertical-align: middle;\n",
       "    }\n",
       "\n",
       "    .dataframe tbody tr th {\n",
       "        vertical-align: top;\n",
       "    }\n",
       "\n",
       "    .dataframe thead th {\n",
       "        text-align: right;\n",
       "    }\n",
       "</style>\n",
       "<table border=\"1\" class=\"dataframe\">\n",
       "  <thead>\n",
       "    <tr style=\"text-align: right;\">\n",
       "      <th></th>\n",
       "      <th>cuisines</th>\n",
       "      <th>aggregate_rating</th>\n",
       "    </tr>\n",
       "  </thead>\n",
       "  <tbody>\n",
       "    <tr>\n",
       "      <th>0</th>\n",
       "      <td>Mineira</td>\n",
       "      <td>0.000000</td>\n",
       "    </tr>\n",
       "    <tr>\n",
       "      <th>1</th>\n",
       "      <td>Drinks Only</td>\n",
       "      <td>0.000000</td>\n",
       "    </tr>\n",
       "    <tr>\n",
       "      <th>2</th>\n",
       "      <td>nan</td>\n",
       "      <td>1.807692</td>\n",
       "    </tr>\n",
       "    <tr>\n",
       "      <th>3</th>\n",
       "      <td>Afghan</td>\n",
       "      <td>2.050000</td>\n",
       "    </tr>\n",
       "    <tr>\n",
       "      <th>4</th>\n",
       "      <td>Bengali</td>\n",
       "      <td>2.133333</td>\n",
       "    </tr>\n",
       "    <tr>\n",
       "      <th>5</th>\n",
       "      <td>Tea</td>\n",
       "      <td>2.460000</td>\n",
       "    </tr>\n",
       "    <tr>\n",
       "      <th>6</th>\n",
       "      <td>Tibetan</td>\n",
       "      <td>2.800000</td>\n",
       "    </tr>\n",
       "    <tr>\n",
       "      <th>7</th>\n",
       "      <td>Durban</td>\n",
       "      <td>2.900000</td>\n",
       "    </tr>\n",
       "    <tr>\n",
       "      <th>8</th>\n",
       "      <td>Armenian</td>\n",
       "      <td>3.400000</td>\n",
       "    </tr>\n",
       "    <tr>\n",
       "      <th>9</th>\n",
       "      <td>Cantonese</td>\n",
       "      <td>3.400000</td>\n",
       "    </tr>\n",
       "  </tbody>\n",
       "</table>\n",
       "</div>"
      ],
      "text/plain": [
       "      cuisines  aggregate_rating\n",
       "0      Mineira          0.000000\n",
       "1  Drinks Only          0.000000\n",
       "2          nan          1.807692\n",
       "3       Afghan          2.050000\n",
       "4      Bengali          2.133333\n",
       "5          Tea          2.460000\n",
       "6      Tibetan          2.800000\n",
       "7       Durban          2.900000\n",
       "8     Armenian          3.400000\n",
       "9    Cantonese          3.400000"
      ]
     },
     "execution_count": 139,
     "metadata": {},
     "output_type": "execute_result"
    }
   ],
   "source": [
    "(df1[['cuisines', 'aggregate_rating']]\n",
    ".groupby(['cuisines'])\n",
    ".mean()\n",
    ".sort_values('aggregate_rating')\n",
    ".reset_index()\n",
    ".head(10)\n",
    ")"
   ]
  }
 ],
 "metadata": {
  "kernelspec": {
   "display_name": "Python 3 (ipykernel)",
   "language": "python",
   "name": "python3"
  },
  "language_info": {
   "codemirror_mode": {
    "name": "ipython",
    "version": 3
   },
   "file_extension": ".py",
   "mimetype": "text/x-python",
   "name": "python",
   "nbconvert_exporter": "python",
   "pygments_lexer": "ipython3",
   "version": "3.10.9"
  }
 },
 "nbformat": 4,
 "nbformat_minor": 5
}
